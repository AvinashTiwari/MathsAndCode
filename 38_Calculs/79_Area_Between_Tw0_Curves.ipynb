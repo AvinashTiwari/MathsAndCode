{
 "cells": [
  {
   "cell_type": "code",
   "execution_count": 1,
   "metadata": {},
   "outputs": [],
   "source": [
    "import sympy as sym\n",
    "import matplotlib.pyplot as plt\n",
    "import numpy as np\n",
    "from IPython.display import display, Math\n",
    "from scipy.signal import find_peaks\n",
    "from sympy.abc import x,y\n",
    "import matplotlib.pyplot as plt\n",
    "from matplotlib.patches import Polygon\n"
   ]
  },
  {
   "cell_type": "code",
   "execution_count": 2,
   "metadata": {},
   "outputs": [
    {
     "data": {
      "image/png": "[encoded data removed]",
      "text/plain": [
       "<Figure size 432x288 with 1 Axes>"
      ]
     },
     "metadata": {},
     "output_type": "display_data"
    }
   ],
   "source": [
    "x = sym.symbols('x')\n",
    "symf = x**2\n",
    "symg = x\n",
    "f = sym.lambdify(x,symf)\n",
    "g = sym.lambdify(x,symg)\n",
    "\n",
    "xx = np.linspace(-2,2,55)\n",
    "\n",
    "xpatch = np.linspace(0,1,100)\n",
    "ypatch = np.vstack((g(xpatch), f(xpatch))).T\n",
    "fig, ax = plt.subplots()\n",
    "ax.add_patch(Polygon(ypatch))\n",
    "\n",
    "plt.plot(xx, f(xx))\n",
    "plt.plot(xx, g(xx), 'r')\n",
    "\n",
    "plt.legend(['$f(x) = %s$'%sym.latex(symf), '$g(x) = %s$'%sym.latex(symg)])\n",
    "plt.axis([-.25,1.25,-.5,1.5])\n",
    "\n",
    "plt.show()"
   ]
  },
  {
   "cell_type": "markdown",
   "metadata": {},
   "source": [
    "### Computing area between two function\n",
    "The area between two fucntion is given by the formula $a= \\int_{a}^{b}[f(x)-g(x)]dx$\n",
    "\n",
    "In our example , $f(x)=x^2$ and $g(x) =x$\n",
    "\n",
    "Therefore, $A = \\int_{a}^{b}(x-x^2)dx$\n",
    "\n",
    "We will compute the area  between the two crossing points , that is , where there two function are equal . This is given by the two solution to the equation\n",
    "\n",
    "$$x^2=x$$\n",
    "\n",
    "The two solutions are $x = 0$ and $x=1$. This gives definte Integral of\n",
    "$$A = \\int_{0}^{1}(x-x^2)dx$$"
   ]
  },
  {
   "cell_type": "code",
   "execution_count": 4,
   "metadata": {},
   "outputs": [
    {
     "data": {
      "text/latex": [
       "$$f(x)\\text{ and } g(x) \\text{intersect at } x= 0\\text { and } 1$$"
      ],
      "text/plain": [
       "<IPython.core.display.Math object>"
      ]
     },
     "metadata": {},
     "output_type": "display_data"
    }
   ],
   "source": [
    "fg_intersect = sym.solve(symf-symg)\n",
    "display(Math('f(x)\\\\text{ and } g(x) \\\\text{intersect at } x= %g\\\\text { and } %g' %(fg_intersect[0] , fg_intersect[1])))"
   ]
  },
  {
   "cell_type": "code",
   "execution_count": 7,
   "metadata": {},
   "outputs": [],
   "source": [
    "A = sym.integrate(symg-symf, (x, fg_intersect[0], fg_intersect[1]))"
   ]
  },
  {
   "cell_type": "code",
   "execution_count": 8,
   "metadata": {},
   "outputs": [
    {
     "data": {
      "text/plain": [
       "1/6"
      ]
     },
     "execution_count": 8,
     "metadata": {},
     "output_type": "execute_result"
    }
   ],
   "source": [
    "A"
   ]
  },
  {
   "cell_type": "code",
   "execution_count": 12,
   "metadata": {},
   "outputs": [
    {
     "data": {
      "text/latex": [
       "$$\\text{The area between these function is } 0.166667 $$"
      ],
      "text/plain": [
       "<IPython.core.display.Math object>"
      ]
     },
     "metadata": {},
     "output_type": "display_data"
    }
   ],
   "source": [
    "display(Math(\"\\\\text{The area between these function is } %g \" %A))"
   ]
  },
  {
   "cell_type": "code",
   "execution_count": null,
   "metadata": {},
   "outputs": [],
   "source": []
  }
 ],
 "metadata": {
  "kernelspec": {
   "display_name": "Python 3",
   "language": "python",
   "name": "python3"
  },
  "language_info": {
   "codemirror_mode": {
    "name": "ipython",
    "version": 3
   },
   "file_extension": ".py",
   "mimetype": "text/x-python",
   "name": "python",
   "nbconvert_exporter": "python",
   "pygments_lexer": "ipython3",
   "version": "3.5.5"
  }
 },
 "nbformat": 4,
 "nbformat_minor": 2
}
