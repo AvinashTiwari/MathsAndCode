{
 "cells": [
  {
   "cell_type": "code",
   "execution_count": 1,
   "metadata": {},
   "outputs": [],
   "source": [
    "import numpy as np"
   ]
  },
  {
   "cell_type": "code",
   "execution_count": 3,
   "metadata": {},
   "outputs": [
    {
     "name": "stdout",
     "output_type": "stream",
     "text": [
      "[[-2.35531818 -0.6351729   1.52532033 -0.87428859  0.42749738]\n",
      " [ 0.78248647  1.04584728 -1.22703015 -1.70413873  0.65239801]\n",
      " [-1.13680957  1.26723052  0.63550733  1.54911218  0.17316052]\n",
      " [ 0.16687967  1.74642004 -0.24575398  1.06541849 -1.91719439]\n",
      " [-1.48599941 -1.26193588  0.70892843 -0.50234551 -0.64910058]]\n"
     ]
    },
    {
     "data": {
      "text/plain": [
       "array([[-2.81516301e-01,  5.93929470e-01, -1.21199655e+00,\n",
       "         1.00503168e+00],\n",
       "       [ 7.76435673e-01, -1.17568080e+00,  2.45332057e+00,\n",
       "         2.57717235e-01],\n",
       "       [ 2.51460553e+00, -7.26138391e-01,  2.76102150e+00,\n",
       "         1.88534232e+00],\n",
       "       [-3.78214667e-01,  4.41714975e-05, -6.54054431e-01,\n",
       "         6.85962798e-01],\n",
       "       [ 1.47470475e+00, -1.08809403e+00,  1.85199255e+00,\n",
       "         1.30395595e+00]])"
      ]
     },
     "execution_count": 3,
     "metadata": {},
     "output_type": "execute_result"
    }
   ],
   "source": [
    "A = np.random.randn(5,4)\n",
    "B = np.random.randn(5,3)\n",
    "C = np.random.randn(5,4)\n",
    "\n",
    "# try to add them\n",
    "\n",
    "\n",
    "\n",
    "\n",
    "# \"shifting\" a matrix\n",
    "l = .3 # lambda\n",
    "N = 5  # size of square matrix\n",
    "D = np.random.randn(N,N) # can only shift a square matrix\n",
    "\n",
    "Ds = D + l*np.eye(N)\n",
    "print(Ds)\n",
    "#A+B\n",
    "A+C"
   ]
  },
  {
   "cell_type": "code",
   "execution_count": null,
   "metadata": {},
   "outputs": [],
   "source": []
  }
 ],
 "metadata": {
  "kernelspec": {
   "display_name": "Python 3",
   "language": "python",
   "name": "python3"
  },
  "language_info": {
   "codemirror_mode": {
    "name": "ipython",
    "version": 3
   },
   "file_extension": ".py",
   "mimetype": "text/x-python",
   "name": "python",
   "nbconvert_exporter": "python",
   "pygments_lexer": "ipython3",
   "version": "3.5.5"
  }
 },
 "nbformat": 4,
 "nbformat_minor": 2
}
