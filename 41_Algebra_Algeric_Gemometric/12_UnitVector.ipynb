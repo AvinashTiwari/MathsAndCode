{
 "cells": [
  {
   "cell_type": "code",
   "execution_count": null,
   "metadata": {},
   "outputs": [],
   "source": [
    "import numpy as np\n",
    "import matplotlib.pyplot as plt\n",
    "from mpl_toolkits.mplot3d import Axes3D\n",
    "%matplotlib inline "
   ]
  },
  {
   "cell_type": "code",
   "execution_count": null,
   "metadata": {},
   "outputs": [],
   "source": [
    "v1 = np.array([ -3, 6 ])\n",
    "\n",
    "# mu\n",
    "mu = 1/np.linalg.norm(v1)\n",
    "\n",
    "v1n = v1*mu\n",
    "\n",
    "# plot them\n",
    "plt.plot([0, v1[0]],[0, v1[1]],'b',label='v1')\n",
    "h=plt.plot([0, v1n[0]],[0, v1n[1]],'r',label='v1-norm')\n",
    "plt.setp(h,linewidth=5)\n",
    "\n",
    "# axis square\n",
    "plt.axis('square')\n",
    "plt.axis(( -6, 6, -6, 6 ))\n",
    "plt.grid()\n",
    "plt.legend()\n",
    "plt.show()"
   ]
  },
  {
   "cell_type": "code",
   "execution_count": null,
   "metadata": {},
   "outputs": [],
   "source": []
  }
 ],
 "metadata": {
  "kernelspec": {
   "display_name": "Python 3",
   "language": "python",
   "name": "python3"
  },
  "language_info": {
   "codemirror_mode": {
    "name": "ipython",
    "version": 3
   },
   "file_extension": ".py",
   "mimetype": "text/x-python",
   "name": "python",
   "nbconvert_exporter": "python",
   "pygments_lexer": "ipython3",
   "version": "3.5.5"
  }
 },
 "nbformat": 4,
 "nbformat_minor": 2
}
