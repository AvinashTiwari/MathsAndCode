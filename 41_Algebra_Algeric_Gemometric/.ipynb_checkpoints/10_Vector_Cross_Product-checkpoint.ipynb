{
 "cells": [
  {
   "cell_type": "code",
   "execution_count": 1,
   "metadata": {},
   "outputs": [
    {
     "name": "stdout",
     "output_type": "stream",
     "text": [
      "[15 20  1]\n"
     ]
    },
    {
     "data": {
      "text/plain": [
       "<Figure size 640x480 with 1 Axes>"
      ]
     },
     "metadata": {},
     "output_type": "display_data"
    }
   ],
   "source": [
    "import numpy as np\n",
    "import matplotlib.pyplot as plt\n",
    "from mpl_toolkits.mplot3d import Axes3D\n",
    "%matplotlib inline  \n",
    "\n",
    "v1  = [ -3,  2, 5 ]\n",
    "v2  = [  4, -3, 0 ]\n",
    "\n",
    "# Python's cross-product function\n",
    "v3a = np.cross( v1,v2 )\n",
    "print(v3a)\n",
    "\n",
    "# \"manual\" method\n",
    "v3b = [ [v1[1]*v2[2] - v1[2]*v2[1]],\n",
    "        [v1[2]*v2[0] - v1[0]*v2[2]],\n",
    "        [v1[0]*v2[1] - v1[1]*v2[0]] ]\n",
    "\n",
    "fig = plt.figure()\n",
    "ax = fig.gca(projection='3d')\n",
    "\n",
    "# draw plane defined by span of v1 and v2\n",
    "xx, yy = np.meshgrid(np.linspace(-10,10,10),np.linspace(-10,10,10))\n",
    "z1 = (-v3a[0]*xx - v3a[1]*yy)/v3a[2]\n",
    "ax.plot_surface(xx,yy,z1)\n",
    "\n",
    "## plot the two vectors\n",
    "ax.plot([0, v1[0]],[0, v1[1]],[0, v1[2]],'k')\n",
    "ax.plot([0, v2[0]],[0, v2[1]],[0, v2[2]],'k')\n",
    "ax.plot([0, v3a[0]],[0, v3a[1]],[0, v3a[2]],'r')\n",
    "\n",
    "\n",
    "ax.view_init(azim=150,elev=45)\n",
    "plt.show()"
   ]
  },
  {
   "cell_type": "code",
   "execution_count": null,
   "metadata": {},
   "outputs": [],
   "source": []
  }
 ],
 "metadata": {
  "kernelspec": {
   "display_name": "Python 3",
   "language": "python",
   "name": "python3"
  },
  "language_info": {
   "codemirror_mode": {
    "name": "ipython",
    "version": 3
   },
   "file_extension": ".py",
   "mimetype": "text/x-python",
   "name": "python",
   "nbconvert_exporter": "python",
   "pygments_lexer": "ipython3",
   "version": "3.5.5"
  }
 },
 "nbformat": 4,
 "nbformat_minor": 2
}
