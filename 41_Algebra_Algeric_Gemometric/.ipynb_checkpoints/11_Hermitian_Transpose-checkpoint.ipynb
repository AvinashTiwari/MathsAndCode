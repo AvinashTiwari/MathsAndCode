{
 "cells": [
  {
   "cell_type": "code",
   "execution_count": 1,
   "metadata": {},
   "outputs": [
    {
     "name": "stdout",
     "output_type": "stream",
     "text": [
      "5.0\n",
      "(-7+24j)\n",
      "(25+0j)\n",
      "[3.+0.j 0.+4.j 5.+2.j 2.-5.j]\n",
      "[3.+0.j 0.+4.j 5.+2.j 2.-5.j]\n",
      "[3.-0.j 0.-4.j 5.-2.j 2.+5.j]\n"
     ]
    }
   ],
   "source": [
    "import numpy as np\n",
    "import matplotlib.pyplot as plt\n",
    "from mpl_toolkits.mplot3d import Axes3D\n",
    "%matplotlib inline  \n",
    "\n",
    "z = np.complex(3,4)\n",
    "\n",
    "# magnitude\n",
    "print( np.linalg.norm(z) )\n",
    "\n",
    "# by transpose?\n",
    "print( np.transpose(z)*z )\n",
    "\n",
    "# by Hermitian transpose\n",
    "print( np.transpose(z.conjugate())*z )\n",
    "\n",
    "\n",
    "# complex vector\n",
    "v = np.array( [ 3, 4j, 5+2j, np.complex(2,-5) ] )\n",
    "print( v.T )\n",
    "print( np.transpose(v) )\n",
    "print( np.transpose(v.conjugate()) )"
   ]
  },
  {
   "cell_type": "code",
   "execution_count": null,
   "metadata": {},
   "outputs": [],
   "source": []
  }
 ],
 "metadata": {
  "kernelspec": {
   "display_name": "Python 3",
   "language": "python",
   "name": "python3"
  },
  "language_info": {
   "codemirror_mode": {
    "name": "ipython",
    "version": 3
   },
   "file_extension": ".py",
   "mimetype": "text/x-python",
   "name": "python",
   "nbconvert_exporter": "python",
   "pygments_lexer": "ipython3",
   "version": "3.5.5"
  }
 },
 "nbformat": 4,
 "nbformat_minor": 2
}
