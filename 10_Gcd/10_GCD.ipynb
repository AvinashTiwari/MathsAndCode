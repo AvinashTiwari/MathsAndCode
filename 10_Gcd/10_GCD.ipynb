{
 "cells": [
  {
   "cell_type": "code",
   "execution_count": 3,
   "metadata": {},
   "outputs": [
    {
     "name": "stdout",
     "output_type": "stream",
     "text": [
      "The H.C.F. of 5 and 20 is 5\n"
     ]
    }
   ],
   "source": [
    "def computeHCF(x, y):\n",
    "\n",
    "# choose the smaller number\n",
    "    if x > y:\n",
    "        smaller = y\n",
    "    else:\n",
    "        smaller = x\n",
    "    for i in range(1, smaller+1):\n",
    "        if((x % i == 0) and (y % i == 0)):\n",
    "            hcf = i\n",
    "            \n",
    "    return hcf\n",
    "\n",
    "num1 = 5 \n",
    "num2 = 20\n",
    "\n",
    "# take input from the user\n",
    "# num1 = int(input(\"Enter first number: \"))\n",
    "# num2 = int(input(\"Enter second number: \"))\n",
    "\n",
    "print(\"The H.C.F. of\", num1,\"and\", num2,\"is\", computeHCF(num1, num2))"
   ]
  },
  {
   "cell_type": "code",
   "execution_count": null,
   "metadata": {},
   "outputs": [],
   "source": []
  }
 ],
 "metadata": {
  "kernelspec": {
   "display_name": "Python 3",
   "language": "python",
   "name": "python3"
  },
  "language_info": {
   "codemirror_mode": {
    "name": "ipython",
    "version": 3
   },
   "file_extension": ".py",
   "mimetype": "text/x-python",
   "name": "python",
   "nbconvert_exporter": "python",
   "pygments_lexer": "ipython3",
   "version": "3.6.7"
  }
 },
 "nbformat": 4,
 "nbformat_minor": 2
}
