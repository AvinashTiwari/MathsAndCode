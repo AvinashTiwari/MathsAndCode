{
 "cells": [
  {
   "cell_type": "code",
   "execution_count": 1,
   "metadata": {},
   "outputs": [],
   "source": [
    "import numpy as np"
   ]
  },
  {
   "cell_type": "code",
   "execution_count": 2,
   "metadata": {},
   "outputs": [],
   "source": [
    "A = np.random.randn(14,10)\n",
    "B = np.random.randn(14,10)\n",
    "C = np.random.randn(10,14)"
   ]
  },
  {
   "cell_type": "code",
   "execution_count": 3,
   "metadata": {},
   "outputs": [
    {
     "ename": "ValueError",
     "evalue": "shapes (14,10) and (14,10) not aligned: 10 (dim 1) != 14 (dim 0)",
     "output_type": "error",
     "traceback": [
      "\u001b[1;31m---------------------------------------------------------------------------\u001b[0m",
      "\u001b[1;31mValueError\u001b[0m                                Traceback (most recent call last)",
      "\u001b[1;32m<ipython-input-3-5016aafd2858>\u001b[0m in \u001b[0;36m<module>\u001b[1;34m()\u001b[0m\n\u001b[1;32m----> 1\u001b[1;33m \u001b[0mA\u001b[0m\u001b[1;33m@\u001b[0m\u001b[0mB\u001b[0m\u001b[1;33m\u001b[0m\u001b[0m\n\u001b[0m",
      "\u001b[1;31mValueError\u001b[0m: shapes (14,10) and (14,10) not aligned: 10 (dim 1) != 14 (dim 0)"
     ]
    }
   ],
   "source": [
    "A@B"
   ]
  },
  {
   "cell_type": "code",
   "execution_count": 4,
   "metadata": {},
   "outputs": [
    {
     "data": {
      "text/plain": [
       "array([[ 1.9002812 ,  4.66751326, 11.78892682,  5.71185165, -6.03809278,\n",
       "        -1.79435738, -4.94927587,  4.07709643,  9.04963552, 11.86717066],\n",
       "       [-2.23846235,  2.79069291,  0.12008949,  0.12595121,  0.13694589,\n",
       "         0.41488923, -1.33405692, -3.49727974,  0.4823244 ,  6.59401263],\n",
       "       [-2.52963083,  2.08861157,  1.30467465, -0.80912127, -2.02771605,\n",
       "         1.08630566, -2.72110229, -2.23668972, -4.25924537, -5.24449864],\n",
       "       [ 5.3566209 ,  1.72247955, -1.71524044, -2.27717216,  0.79389032,\n",
       "         1.43609053,  2.05074864,  4.74701767, -1.20463729,  1.95815016],\n",
       "       [-2.213272  , -0.36968081,  1.43037468, -0.15967376,  1.57950427,\n",
       "        -2.52787955,  2.31984848, -5.38296182, -0.78135928,  1.29996208],\n",
       "       [ 0.50834033, -0.55895912,  5.18269079, -0.54507468,  3.76781313,\n",
       "        -4.06163881, -0.87534343, -6.83607335,  4.68114696,  7.50548372],\n",
       "       [ 1.57724446,  2.75093611,  3.22457369,  8.52748023, -2.47157194,\n",
       "         4.03121197, -3.63438472,  6.20206585, -0.58991836,  5.85333254],\n",
       "       [ 4.03881614,  0.54756957, -5.40808579,  0.65699269, -1.29630295,\n",
       "         2.89467602, -4.14233827,  0.35863161,  4.70713048,  0.38600648],\n",
       "       [ 0.0828295 , -4.98300427, -2.31108289, -3.57510873,  4.48234017,\n",
       "         4.53546483,  8.22385982,  4.64918391, -3.58449852, -1.27341707],\n",
       "       [ 1.14836532,  1.54515006,  1.77956878, -2.24217678, -4.01126649,\n",
       "         0.75212445, -1.17586659, -5.69039802,  2.98370377,  3.78537401]])"
      ]
     },
     "execution_count": 4,
     "metadata": {},
     "output_type": "execute_result"
    }
   ],
   "source": [
    "C@B"
   ]
  },
  {
   "cell_type": "code",
   "execution_count": 5,
   "metadata": {},
   "outputs": [
    {
     "data": {
      "text/plain": [
       "(10, 10)"
      ]
     },
     "execution_count": 5,
     "metadata": {},
     "output_type": "execute_result"
    }
   ],
   "source": [
    "np.shape(C@B)"
   ]
  },
  {
   "cell_type": "code",
   "execution_count": 19,
   "metadata": {},
   "outputs": [],
   "source": [
    "def matrixMultiplication(a,b):\n",
    "    sZA = np.shape(a)\n",
    "    xZB = np.shape(b)\n",
    "    if sZA[1] != xZB[0]:\n",
    "        raise ValueError(\"Inner dimensaion don't Match\")\n",
    "    C = np.zeros((sZA[0],xZB[1]))\n",
    "    for i in range( sZA[0]):\n",
    "        for j in range(xZB[1]):\n",
    "            C[i,j] = np.dot(A[i,:], B[:,j])\n",
    "    return C\n",
    "        "
   ]
  },
  {
   "cell_type": "code",
   "execution_count": 21,
   "metadata": {},
   "outputs": [
    {
     "name": "stdout",
     "output_type": "stream",
     "text": [
      "[[ 0.00000000e+00 -4.44089210e-16  0.00000000e+00  0.00000000e+00]\n",
      " [-4.44089210e-16  0.00000000e+00  0.00000000e+00  0.00000000e+00]\n",
      " [ 0.00000000e+00  0.00000000e+00  0.00000000e+00 -2.22044605e-16]\n",
      " [ 1.38777878e-17  2.22044605e-16  0.00000000e+00  0.00000000e+00]]\n"
     ]
    }
   ],
   "source": [
    "A = np.random.randn(4,6)\n",
    "B = np.random.randn(6,4)\n",
    "c1 = matrixMultiplication(A,B)\n",
    "c2 = A@B\n",
    "print(c1-c2)"
   ]
  },
  {
   "cell_type": "code",
   "execution_count": 10,
   "metadata": {},
   "outputs": [
    {
     "ename": "ValueError",
     "evalue": "Inner dimensaion don't Match",
     "output_type": "error",
     "traceback": [
      "\u001b[1;31m---------------------------------------------------------------------------\u001b[0m",
      "\u001b[1;31mValueError\u001b[0m                                Traceback (most recent call last)",
      "\u001b[1;32m<ipython-input-10-cde29de93813>\u001b[0m in \u001b[0;36m<module>\u001b[1;34m()\u001b[0m\n\u001b[0;32m      1\u001b[0m \u001b[0mA\u001b[0m \u001b[1;33m=\u001b[0m \u001b[0mnp\u001b[0m\u001b[1;33m.\u001b[0m\u001b[0mrandom\u001b[0m\u001b[1;33m.\u001b[0m\u001b[0mrandn\u001b[0m\u001b[1;33m(\u001b[0m\u001b[1;36m4\u001b[0m\u001b[1;33m,\u001b[0m\u001b[1;36m6\u001b[0m\u001b[1;33m)\u001b[0m\u001b[1;33m\u001b[0m\u001b[0m\n\u001b[0;32m      2\u001b[0m \u001b[0mB\u001b[0m \u001b[1;33m=\u001b[0m \u001b[0mnp\u001b[0m\u001b[1;33m.\u001b[0m\u001b[0mrandom\u001b[0m\u001b[1;33m.\u001b[0m\u001b[0mrandn\u001b[0m\u001b[1;33m(\u001b[0m\u001b[1;36m4\u001b[0m\u001b[1;33m,\u001b[0m\u001b[1;36m6\u001b[0m\u001b[1;33m)\u001b[0m\u001b[1;33m\u001b[0m\u001b[0m\n\u001b[1;32m----> 3\u001b[1;33m \u001b[0mmatrixMultiplication\u001b[0m\u001b[1;33m(\u001b[0m\u001b[0mA\u001b[0m\u001b[1;33m,\u001b[0m\u001b[0mB\u001b[0m\u001b[1;33m)\u001b[0m\u001b[1;33m\u001b[0m\u001b[0m\n\u001b[0m",
      "\u001b[1;32m<ipython-input-8-473ccb6927bb>\u001b[0m in \u001b[0;36mmatrixMultiplication\u001b[1;34m(a, b)\u001b[0m\n\u001b[0;32m      3\u001b[0m     \u001b[0mxZB\u001b[0m \u001b[1;33m=\u001b[0m \u001b[0mnp\u001b[0m\u001b[1;33m.\u001b[0m\u001b[0mshape\u001b[0m\u001b[1;33m(\u001b[0m\u001b[0mb\u001b[0m\u001b[1;33m)\u001b[0m\u001b[1;33m\u001b[0m\u001b[0m\n\u001b[0;32m      4\u001b[0m     \u001b[1;32mif\u001b[0m \u001b[0msZA\u001b[0m\u001b[1;33m[\u001b[0m\u001b[1;36m1\u001b[0m\u001b[1;33m]\u001b[0m \u001b[1;33m!=\u001b[0m \u001b[0mxZB\u001b[0m\u001b[1;33m[\u001b[0m\u001b[1;36m0\u001b[0m\u001b[1;33m]\u001b[0m\u001b[1;33m:\u001b[0m\u001b[1;33m\u001b[0m\u001b[0m\n\u001b[1;32m----> 5\u001b[1;33m         \u001b[1;32mraise\u001b[0m \u001b[0mValueError\u001b[0m\u001b[1;33m(\u001b[0m\u001b[1;34m\"Inner dimensaion don't Match\"\u001b[0m\u001b[1;33m)\u001b[0m\u001b[1;33m\u001b[0m\u001b[0m\n\u001b[0m\u001b[0;32m      6\u001b[0m \u001b[1;33m\u001b[0m\u001b[0m\n",
      "\u001b[1;31mValueError\u001b[0m: Inner dimensaion don't Match"
     ]
    }
   ],
   "source": [
    "A = np.random.randn(4,6)\n",
    "B = np.random.randn(4,6)\n",
    "matrixMultiplication(A,B)"
   ]
  },
  {
   "cell_type": "code",
   "execution_count": null,
   "metadata": {},
   "outputs": [],
   "source": []
  }
 ],
 "metadata": {
  "kernelspec": {
   "display_name": "Python 3",
   "language": "python",
   "name": "python3"
  },
  "language_info": {
   "codemirror_mode": {
    "name": "ipython",
    "version": 3
   },
   "file_extension": ".py",
   "mimetype": "text/x-python",
   "name": "python",
   "nbconvert_exporter": "python",
   "pygments_lexer": "ipython3",
   "version": "3.5.5"
  }
 },
 "nbformat": 4,
 "nbformat_minor": 2
}
