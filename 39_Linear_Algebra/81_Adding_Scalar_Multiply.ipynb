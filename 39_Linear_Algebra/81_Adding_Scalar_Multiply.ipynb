{
 "cells": [
  {
   "cell_type": "code",
   "execution_count": 1,
   "metadata": {},
   "outputs": [],
   "source": [
    "import numpy as np\n",
    "import matplotlib.pyplot as plt\n",
    "import sympy as sym\n",
    "from IPython.display import display, Math"
   ]
  },
  {
   "cell_type": "code",
   "execution_count": 2,
   "metadata": {},
   "outputs": [
    {
     "data": {
      "image/png": "[encoded data removed]",
      "text/plain": [
       "<Figure size 432x288 with 1 Axes>"
      ]
     },
     "metadata": {},
     "output_type": "display_data"
    }
   ],
   "source": [
    "v = np.array([5,1])\n",
    "s = [1 , -.5,2,.5]\n",
    "\n",
    "for si in s :\n",
    "    sv = si*v\n",
    "    plt.plot([0, sv[0]], [0,sv[1]], 'o-', linewidth=\"3\", label=\"$\\\\lambda=%g$\"%si)\n",
    "\n",
    "plt.axis('square')\n",
    "plt.axis([-3,3,-3,3])\n",
    "plt.grid()\n",
    "plt.legend()\n",
    "plt.show()"
   ]
  },
  {
   "cell_type": "code",
   "execution_count": 4,
   "metadata": {},
   "outputs": [
    {
     "name": "stdout",
     "output_type": "stream",
     "text": [
      "[0 3] [0 3] [0. 3.]\n"
     ]
    }
   ],
   "source": [
    "v1 = np.array([-1,2])\n",
    "v2 = np.array([1,1])\n",
    "\n",
    "v3a = v1+v2\n",
    "v3b = np.add(v1,v2)\n",
    "v3c = np.zeros(2)\n",
    "for i in range(0,2):\n",
    "    v3c[i] = v1[i] + v2[i]\n",
    "    \n",
    "print(v3a, v3b, v3c)"
   ]
  },
  {
   "cell_type": "code",
   "execution_count": 13,
   "metadata": {},
   "outputs": [
    {
     "data": {
      "text/latex": [
       "$$\\left[\\begin{matrix}-1 & 2\\end{matrix}\\right]+\\left[\\begin{matrix}1 & 1\\end{matrix}\\right]=\\left[\\begin{matrix}0 & 3\\end{matrix}\\right]$$"
      ],
      "text/plain": [
       "<IPython.core.display.Math object>"
      ]
     },
     "metadata": {},
     "output_type": "display_data"
    },
    {
     "data": {
      "image/png": "[encoded data removed]",
      "text/plain": [
       "<Figure size 432x288 with 1 Axes>"
      ]
     },
     "metadata": {},
     "output_type": "display_data"
    }
   ],
   "source": [
    "v1 = np.array([-1,2])\n",
    "v2 = np.array([1,1])\n",
    "plt.plot([0, v1[0]], [0, v1[1]], linewidth=3, label='$v_1$')\n",
    "plt.plot([0, v2[0]] + v1[0], [0, v2[1]] + v1[1], linewidth=3, label='$v_2$')\n",
    "plt.plot([0, v3a[0]], [0, v3a[1]], linewidth=3, label='$v_3$')\n",
    "\n",
    "s1 = sym.latex(sym.sympify(v1))\n",
    "s2 = sym.latex(sym.sympify(v2))\n",
    "s3 = sym.latex(sym.sympify(v3a))\n",
    "\n",
    "display(Math('%s+%s=%s' %(s1,s2,s3)))\n",
    "\n",
    "plt.axis('square')\n",
    "plt.axis([-2,2,-2,4])\n",
    "plt.legend()\n",
    "plt.grid()\n",
    "plt.show()"
   ]
  },
  {
   "cell_type": "code",
   "execution_count": null,
   "metadata": {},
   "outputs": [],
   "source": []
  }
 ],
 "metadata": {
  "kernelspec": {
   "display_name": "Python 3",
   "language": "python",
   "name": "python3"
  },
  "language_info": {
   "codemirror_mode": {
    "name": "ipython",
    "version": 3
   },
   "file_extension": ".py",
   "mimetype": "text/x-python",
   "name": "python",
   "nbconvert_exporter": "python",
   "pygments_lexer": "ipython3",
   "version": "3.5.5"
  }
 },
 "nbformat": 4,
 "nbformat_minor": 2
}
