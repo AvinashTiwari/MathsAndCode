{
 "cells": [
  {
   "cell_type": "code",
   "execution_count": 1,
   "metadata": {},
   "outputs": [],
   "source": [
    "import numpy as np\n",
    "import matplotlib.pyplot as plt"
   ]
  },
  {
   "cell_type": "code",
   "execution_count": 3,
   "metadata": {},
   "outputs": [
    {
     "name": "stdout",
     "output_type": "stream",
     "text": [
      "[[-1 -1  2  4 -1]\n",
      " [-2  2 -5  3 -3]\n",
      " [-4 -5  2  0 -5]\n",
      " [ 1 -4 -5 -5  2]\n",
      " [ 1 -4  2  0 -1]]\n"
     ]
    }
   ],
   "source": [
    "m = 5\n",
    "A = np.random.randint(-5,5,(m,m))\n",
    "Ainv = np.linalg.inv(A)\n",
    "print(A)"
   ]
  },
  {
   "cell_type": "code",
   "execution_count": 4,
   "metadata": {},
   "outputs": [
    {
     "name": "stdout",
     "output_type": "stream",
     "text": [
      "[[-0.24772162  0.13421707 -0.16984258 -0.11764706  0.45898923]\n",
      " [-0.16321458  0.02154101 -0.01491301 -0.11764706 -0.06213753]\n",
      " [-0.02734051 -0.11060481  0.03811102 -0.08823529 -0.00787075]\n",
      " [ 0.24855012  0.05095278 -0.07373654  0.02941176  0.02609776]\n",
      " [ 0.35045568 -0.17315659 -0.03396852  0.17647059 -0.30820215]]\n"
     ]
    }
   ],
   "source": [
    "print(Ainv)"
   ]
  },
  {
   "cell_type": "code",
   "execution_count": 9,
   "metadata": {},
   "outputs": [
    {
     "data": {
      "text/plain": [
       "Text(0.5,1,'A*A$^{-1}$')"
      ]
     },
     "execution_count": 9,
     "metadata": {},
     "output_type": "execute_result"
    },
    {
     "data": {
      "image/png": "[encoded data removed]",
      "text/plain": [
       "<Figure size 432x288 with 3 Axes>"
      ]
     },
     "metadata": {},
     "output_type": "display_data"
    }
   ],
   "source": [
    "fig,ax = plt.subplots(1,3)\n",
    "ax[0].imshow(A)\n",
    "ax[0].set_title('A')\n",
    "ax[1].imshow(Ainv)\n",
    "ax[1].set_title('A$^{-1}$')\n",
    "ax[2].imshow(A@Ainv)\n",
    "ax[2].set_title('A*A$^{-1}$')"
   ]
  },
  {
   "cell_type": "code",
   "execution_count": null,
   "metadata": {},
   "outputs": [],
   "source": []
  }
 ],
 "metadata": {
  "kernelspec": {
   "display_name": "Python 3",
   "language": "python",
   "name": "python3"
  },
  "language_info": {
   "codemirror_mode": {
    "name": "ipython",
    "version": 3
   },
   "file_extension": ".py",
   "mimetype": "text/x-python",
   "name": "python",
   "nbconvert_exporter": "python",
   "pygments_lexer": "ipython3",
   "version": "3.5.5"
  }
 },
 "nbformat": 4,
 "nbformat_minor": 2
}
