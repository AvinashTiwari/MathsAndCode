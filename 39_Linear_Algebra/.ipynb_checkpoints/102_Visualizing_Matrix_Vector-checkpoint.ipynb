{
 "cells": [
  {
   "cell_type": "code",
   "execution_count": 1,
   "metadata": {},
   "outputs": [],
   "source": [
    "import numpy as np\n",
    "import matplotlib.pyplot as plt"
   ]
  },
  {
   "cell_type": "code",
   "execution_count": 11,
   "metadata": {},
   "outputs": [
    {
     "data": {
      "image/png": "[encoded data removed]",
      "text/plain": [
       "<Figure size 432x288 with 1 Axes>"
      ]
     },
     "metadata": {},
     "output_type": "display_data"
    }
   ],
   "source": [
    "M = np.array([[.5,1],\n",
    "             [1,.5]])\n",
    "\n",
    "v = np.array([1,2])\n",
    "#v = np.random.rand(2)\n",
    "\n",
    "Mv = M@v\n",
    "\n",
    "plt.plot([0, v[0]], [0, v[1]], 'b', linewidth=2, label='v')\n",
    "plt.plot([0, Mv[0]], [0, Mv[1]], 'r', linewidth=2, label='Mv')\n",
    "\n",
    "plt.axis('square')\n",
    "plt.axis([-5,5,-5,5])\n",
    "plt.grid()\n",
    "plt.legend()\n",
    "plt.show()"
   ]
  },
  {
   "cell_type": "code",
   "execution_count": 13,
   "metadata": {},
   "outputs": [
    {
     "data": {
      "image/png": "[encoded data removed]",
      "text/plain": [
       "<Figure size 432x288 with 1 Axes>"
      ]
     },
     "metadata": {},
     "output_type": "display_data"
    }
   ],
   "source": [
    "M = np.array([[.5,1],\n",
    "             [1,.5]])\n",
    "\n",
    "v = np.array([1,2])\n",
    "v = np.random.rand(2)\n",
    "\n",
    "Mv = M@v\n",
    "\n",
    "plt.plot([0, v[0]], [0, v[1]], 'b', linewidth=2, label='v')\n",
    "plt.plot([0, Mv[0]], [0, Mv[1]], 'r', linewidth=2, label='Mv')\n",
    "\n",
    "plt.axis('square')\n",
    "plt.axis([-5,5,-5,5])\n",
    "plt.grid()\n",
    "plt.legend()\n",
    "plt.show()"
   ]
  },
  {
   "cell_type": "code",
   "execution_count": 14,
   "metadata": {},
   "outputs": [
    {
     "data": {
      "image/png": "[encoded data removed]",
      "text/plain": [
       "<Figure size 432x288 with 1 Axes>"
      ]
     },
     "metadata": {},
     "output_type": "display_data"
    }
   ],
   "source": [
    "M = np.array([[.5,1],\n",
    "             [1,.5]])\n",
    "\n",
    "v = np.array([1,1])\n",
    "\n",
    "Mv = M@v\n",
    "\n",
    "plt.plot([0, v[0]], [0, v[1]], 'b', linewidth=2, label='v')\n",
    "plt.plot([0, Mv[0]], [0, Mv[1]], 'r', linewidth=2, label='Mv')\n",
    "\n",
    "plt.axis('square')\n",
    "plt.axis([-5,5,-5,5])\n",
    "plt.grid()\n",
    "plt.legend()\n",
    "plt.show()"
   ]
  },
  {
   "cell_type": "code",
   "execution_count": null,
   "metadata": {},
   "outputs": [],
   "source": [
    "M = np.array([[.5,1],\n",
    "             [1,.5]])\n",
    "\n",
    "v = np.array([1,-1])\n",
    "\n",
    "Mv = M@v\n",
    "\n",
    "plt.plot([0, v[0]], [0, v[1]], 'b', linewidth=2, label='v')\n",
    "plt.plot([0, Mv[0]], [0, Mv[1]], 'r', linewidth=2, label='Mv')\n",
    "\n",
    "plt.axis('square')\n",
    "plt.axis([-5,5,-5,5])\n",
    "plt.grid()\n",
    "plt.legend()\n",
    "plt.show()"
   ]
  }
 ],
 "metadata": {
  "kernelspec": {
   "display_name": "Python 3",
   "language": "python",
   "name": "python3"
  },
  "language_info": {
   "codemirror_mode": {
    "name": "ipython",
    "version": 3
   },
   "file_extension": ".py",
   "mimetype": "text/x-python",
   "name": "python",
   "nbconvert_exporter": "python",
   "pygments_lexer": "ipython3",
   "version": "3.5.5"
  }
 },
 "nbformat": 4,
 "nbformat_minor": 2
}
