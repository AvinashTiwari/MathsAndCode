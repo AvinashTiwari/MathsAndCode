{
 "cells": [
  {
   "cell_type": "code",
   "execution_count": 1,
   "metadata": {},
   "outputs": [],
   "source": [
    "import numpy as np\n",
    "import matplotlib.pyplot as plt"
   ]
  },
  {
   "cell_type": "code",
   "execution_count": 3,
   "metadata": {},
   "outputs": [
    {
     "data": {
      "text/plain": [
       "array([ 3., -1.,  4.])"
      ]
     },
     "execution_count": 3,
     "metadata": {},
     "output_type": "execute_result"
    }
   ],
   "source": [
    "X = np.array([[2,1,-1], [3,4,2],[1,-5,-2]])\n",
    "y =  np.array([1,13,0])\n",
    "\n",
    "beta1 = np.linalg.inv(X.T@X)@(X.T@y)\n",
    "beta1"
   ]
  },
  {
   "cell_type": "code",
   "execution_count": 4,
   "metadata": {},
   "outputs": [
    {
     "data": {
      "text/plain": [
       "array([ 3., -1.,  4.])"
      ]
     },
     "execution_count": 4,
     "metadata": {},
     "output_type": "execute_result"
    }
   ],
   "source": [
    "beta2 = np.linalg.solve(X,y)\n",
    "beta2"
   ]
  },
  {
   "cell_type": "code",
   "execution_count": 6,
   "metadata": {},
   "outputs": [],
   "source": [
    "X1 = np.array([ [3,-1] , [-1,1]])\n",
    "y1 = np.array([6,2])\n",
    "\n",
    "X2 = np.array([ [3,-1],  [1.5, -.5]])\n",
    "y2 = np.array([6,3])\n",
    "\n",
    "X3 = np.array([ [3,-1] ,[1.5,-.5]])\n",
    "y3 = np.array([6,2])"
   ]
  },
  {
   "cell_type": "code",
   "execution_count": 11,
   "metadata": {},
   "outputs": [
    {
     "name": "stdout",
     "output_type": "stream",
     "text": [
      "[4. 6.]\n"
     ]
    },
    {
     "data": {
      "image/png": "[encoded data removed]",
      "text/plain": [
       "<Figure size 432x288 with 1 Axes>"
      ]
     },
     "metadata": {
      "needs_background": "light"
     },
     "output_type": "display_data"
    }
   ],
   "source": [
    "xlim = np.array([0,10])\n",
    "yy1 = -X1[0,0]/X[0,1]*xlim + y1[0]/X1[0,1]\n",
    "yy2 = -X1[1,0]/X[1,1]*xlim + y1[1]/X1[1,1]\n",
    "\n",
    "b = np.linalg.solve(X1,y1)\n",
    "print(b)\n",
    "\n",
    "plt.plot(xlim,yy1, 'b', label=\"eq 1\")\n",
    "plt.plot(xlim,yy2, 'r', label=\"eq 2\")\n",
    "plt.plot(b[0],b[1], 'ko', markersize=10, label=\"sol\")\n",
    "plt.legend()\n",
    "plt.grid()\n",
    "plt.show()"
   ]
  },
  {
   "cell_type": "code",
   "execution_count": null,
   "metadata": {},
   "outputs": [],
   "source": []
  }
 ],
 "metadata": {
  "kernelspec": {
   "display_name": "Python 3",
   "language": "python",
   "name": "python3"
  },
  "language_info": {
   "codemirror_mode": {
    "name": "ipython",
    "version": 3
   },
   "file_extension": ".py",
   "mimetype": "text/x-python",
   "name": "python",
   "nbconvert_exporter": "python",
   "pygments_lexer": "ipython3",
   "version": "3.5.5"
  }
 },
 "nbformat": 4,
 "nbformat_minor": 2
}
