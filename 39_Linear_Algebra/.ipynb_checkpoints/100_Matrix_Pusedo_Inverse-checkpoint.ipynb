{
 "cells": [
  {
   "cell_type": "code",
   "execution_count": 1,
   "metadata": {},
   "outputs": [],
   "source": [
    "import numpy as np\n",
    "import matplotlib.pyplot as plt"
   ]
  },
  {
   "cell_type": "code",
   "execution_count": 5,
   "metadata": {},
   "outputs": [
    {
     "name": "stdout",
     "output_type": "stream",
     "text": [
      "[[ 3  3  2  3  0]\n",
      " [ 2  2  5 -4  1]\n",
      " [ 0  0  2  3  5]\n",
      " [-2 -2  4 -1  0]\n",
      " [ 1  1  1 -4  5]]\n"
     ]
    }
   ],
   "source": [
    "m = 5\n",
    "a = np.random.randint(-m,m+1,(m,m))\n",
    "a[:,0] =  a [:,1]\n",
    "print(a)"
   ]
  },
  {
   "cell_type": "code",
   "execution_count": 7,
   "metadata": {},
   "outputs": [
    {
     "name": "stdout",
     "output_type": "stream",
     "text": [
      "[[ 0.07927771  0.04031275 -0.02715124 -0.08122634  0.01908869]\n",
      " [ 0.07927771  0.04031275 -0.02715124 -0.08122634  0.01908869]\n",
      " [ 0.0450141   0.08033332  0.03491273  0.12236478 -0.0509794 ]\n",
      " [ 0.07131996 -0.05749028  0.08764132  0.01141803 -0.07614326]\n",
      " [-0.02682922 -0.03310701  0.10726735 -0.02367381  0.09935406]]\n"
     ]
    }
   ],
   "source": [
    "ainv = np.linalg.pinv(a)\n",
    "print(ainv)"
   ]
  },
  {
   "cell_type": "code",
   "execution_count": 9,
   "metadata": {},
   "outputs": [
    {
     "data": {
      "text/plain": [
       "Text(0.5,1,'A*A$^{-1}$')"
      ]
     },
     "execution_count": 9,
     "metadata": {},
     "output_type": "execute_result"
    },
    {
     "data": {
      "image/png": "[encoded data removed]",
      "text/plain": [
       "<Figure size 432x288 with 3 Axes>"
      ]
     },
     "metadata": {},
     "output_type": "display_data"
    }
   ],
   "source": [
    "fig ,ax = plt.subplots(1,3)\n",
    "\n",
    "ax[0].imshow(a)\n",
    "ax[0].set_title('A')\n",
    "ax[1].imshow(ainv)\n",
    "ax[1].set_title('A$^{-1}$')\n",
    "ax[2].imshow(a@ainv)\n",
    "ax[2].set_title('A*A$^{-1}$')"
   ]
  },
  {
   "cell_type": "code",
   "execution_count": null,
   "metadata": {},
   "outputs": [],
   "source": []
  }
 ],
 "metadata": {
  "kernelspec": {
   "display_name": "Python 3",
   "language": "python",
   "name": "python3"
  },
  "language_info": {
   "codemirror_mode": {
    "name": "ipython",
    "version": 3
   },
   "file_extension": ".py",
   "mimetype": "text/x-python",
   "name": "python",
   "nbconvert_exporter": "python",
   "pygments_lexer": "ipython3",
   "version": "3.5.5"
  }
 },
 "nbformat": 4,
 "nbformat_minor": 2
}
