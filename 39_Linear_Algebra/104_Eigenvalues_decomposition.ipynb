{
 "cells": [
  {
   "cell_type": "code",
   "execution_count": 1,
   "metadata": {},
   "outputs": [],
   "source": [
    "import numpy as np\n",
    "import matplotlib.pyplot as plt"
   ]
  },
  {
   "cell_type": "code",
   "execution_count": 7,
   "metadata": {},
   "outputs": [],
   "source": [
    "M = np.array([[1,2],[2,1]])\n",
    "d,V = np.linalg.eig(M)"
   ]
  },
  {
   "cell_type": "code",
   "execution_count": 8,
   "metadata": {},
   "outputs": [
    {
     "name": "stdout",
     "output_type": "stream",
     "text": [
      "[[ 0.70710678 -0.70710678]\n",
      " [ 0.70710678  0.70710678]]\n",
      "[ 3. -1.]\n"
     ]
    }
   ],
   "source": [
    "print(V)\n",
    "print(d)"
   ]
  },
  {
   "cell_type": "code",
   "execution_count": 9,
   "metadata": {},
   "outputs": [
    {
     "data": {
      "image/png": "[encoded data removed]",
      "text/plain": [
       "<Figure size 432x288 with 1 Axes>"
      ]
     },
     "metadata": {},
     "output_type": "display_data"
    }
   ],
   "source": [
    "lv = d[1]*V[:,1]\n",
    "Mv = M@V[:,0]\n",
    "plt.plot([0,lv[0]], [0,lv[1]], 'b', label='$\\\\lambda v$', linewidth=4)\n",
    "plt.plot([0,Mv[0]], [0,Mv[1]], 'r:', label='Mv', linewidth=4)\n",
    "plt.grid()\n",
    "plt.legend()\n",
    "plt.show()\n"
   ]
  },
  {
   "cell_type": "code",
   "execution_count": 15,
   "metadata": {},
   "outputs": [
    {
     "name": "stdout",
     "output_type": "stream",
     "text": [
      "[[ 1.  0.  0. -0. -0. -0.]\n",
      " [ 0.  1.  0. -0.  0. -0.]\n",
      " [ 0.  0.  1.  0.  0.  0.]\n",
      " [-0. -0.  0.  1.  0. -0.]\n",
      " [-0.  0.  0.  0.  1. -0.]\n",
      " [-0. -0.  0. -0. -0.  1.]]\n"
     ]
    }
   ],
   "source": [
    "m = 6\n",
    "Q = np.random.randn(m,m)\n",
    "Q = Q@Q.T\n",
    "d,V = np.linalg.eig(Q)\n",
    "#print(V)\n",
    "dps = np.zeros((m,m))\n",
    "for i in range(m):\n",
    "    for j in range(0,m):\n",
    "        dps[i,j] = np.dot(V[:,i], V[:,j])\n",
    "\n",
    "print(np.round(dps,2))"
   ]
  },
  {
   "cell_type": "code",
   "execution_count": null,
   "metadata": {},
   "outputs": [],
   "source": []
  },
  {
   "cell_type": "code",
   "execution_count": null,
   "metadata": {},
   "outputs": [],
   "source": []
  }
 ],
 "metadata": {
  "kernelspec": {
   "display_name": "Python 3",
   "language": "python",
   "name": "python3"
  },
  "language_info": {
   "codemirror_mode": {
    "name": "ipython",
    "version": 3
   },
   "file_extension": ".py",
   "mimetype": "text/x-python",
   "name": "python",
   "nbconvert_exporter": "python",
   "pygments_lexer": "ipython3",
   "version": "3.5.5"
  }
 },
 "nbformat": 4,
 "nbformat_minor": 2
}
