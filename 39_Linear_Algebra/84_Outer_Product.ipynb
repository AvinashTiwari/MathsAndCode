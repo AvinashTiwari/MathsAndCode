{
 "cells": [
  {
   "cell_type": "code",
   "execution_count": 5,
   "metadata": {},
   "outputs": [],
   "source": [
    "import numpy as np\n",
    "from IPython.display import display, Math\n",
    "import matplotlib.pyplot as plt"
   ]
  },
  {
   "cell_type": "code",
   "execution_count": 6,
   "metadata": {},
   "outputs": [
    {
     "data": {
      "text/plain": [
       "array([[ 2.33794926e-02,  6.24706241e-01,  1.05560070e-02, ...,\n",
       "         1.40031739e-01, -3.06286275e-02,  2.27171929e-01],\n",
       "       [-9.09625889e-04, -2.43054449e-02, -4.10702551e-04, ...,\n",
       "        -5.44821468e-03,  1.19166797e-03, -8.83857792e-03],\n",
       "       [ 1.00995097e-01,  2.69861576e+00,  4.56000037e-02, ...,\n",
       "         6.04911291e-01, -1.32310023e-01,  9.81340841e-01],\n",
       "       ...,\n",
       "       [ 6.56105691e-02,  1.75313180e+00,  2.96236380e-02, ...,\n",
       "         3.92975255e-01, -8.59540330e-02,  6.37519374e-01],\n",
       "       [ 1.63985071e-02,  4.38172458e-01,  7.40404247e-03, ...,\n",
       "         9.82190464e-02, -2.14830910e-02,  1.59339664e-01],\n",
       "       [-8.61344959e-02, -2.30153656e+00, -3.88903368e-02, ...,\n",
       "        -5.15903550e-01,  1.12841687e-01, -8.36944576e-01]])"
      ]
     },
     "execution_count": 6,
     "metadata": {},
     "output_type": "execute_result"
    }
   ],
   "source": [
    "v1 = np.random.randn(50)\n",
    "v2  = np.random.randn(80)\n",
    "np.outer(v1,v2)"
   ]
  },
  {
   "cell_type": "code",
   "execution_count": 7,
   "metadata": {},
   "outputs": [
    {
     "data": {
      "image/png": "[encoded data removed]",
      "text/plain": [
       "<Figure size 432x288 with 1 Axes>"
      ]
     },
     "metadata": {},
     "output_type": "display_data"
    }
   ],
   "source": [
    "op = np.outer(v1,v2)\n",
    "plt.imshow(op)\n",
    "plt.show()"
   ]
  },
  {
   "cell_type": "code",
   "execution_count": 8,
   "metadata": {},
   "outputs": [
    {
     "data": {
      "text/plain": [
       "array([1, 2, 3, 4, 5, 6, 7, 8, 9])"
      ]
     },
     "execution_count": 8,
     "metadata": {},
     "output_type": "execute_result"
    }
   ],
   "source": [
    "v = np.arange(1,11)\n",
    "v"
   ]
  },
  {
   "cell_type": "code",
   "execution_count": 9,
   "metadata": {},
   "outputs": [
    {
     "data": {
      "text/plain": [
       "array([1, 2, 3, 4])"
      ]
     },
     "execution_count": 9,
     "metadata": {},
     "output_type": "execute_result"
    }
   ],
   "source": [
    "w = np.arange(1,5)\n",
    "w"
   ]
  },
  {
   "cell_type": "code",
   "execution_count": 10,
   "metadata": {},
   "outputs": [
    {
     "data": {
      "text/plain": [
       "array([[ 1,  2,  3,  4],\n",
       "       [ 2,  4,  6,  8],\n",
       "       [ 3,  6,  9, 12],\n",
       "       [ 4,  8, 12, 16],\n",
       "       [ 5, 10, 15, 20],\n",
       "       [ 6, 12, 18, 24],\n",
       "       [ 7, 14, 21, 28],\n",
       "       [ 8, 16, 24, 32],\n",
       "       [ 9, 18, 27, 36]])"
      ]
     },
     "execution_count": 10,
     "metadata": {},
     "output_type": "execute_result"
    }
   ],
   "source": [
    "np.outer(v,w)"
   ]
  },
  {
   "cell_type": "code",
   "execution_count": 11,
   "metadata": {},
   "outputs": [
    {
     "data": {
      "text/plain": [
       "array([[ 1,  2,  3,  4,  5,  6,  7,  8,  9],\n",
       "       [ 2,  4,  6,  8, 10, 12, 14, 16, 18],\n",
       "       [ 3,  6,  9, 12, 15, 18, 21, 24, 27],\n",
       "       [ 4,  8, 12, 16, 20, 24, 28, 32, 36]])"
      ]
     },
     "execution_count": 11,
     "metadata": {},
     "output_type": "execute_result"
    }
   ],
   "source": [
    "np.outer(w,v)"
   ]
  },
  {
   "cell_type": "code",
   "execution_count": null,
   "metadata": {},
   "outputs": [],
   "source": []
  }
 ],
 "metadata": {
  "kernelspec": {
   "display_name": "Python 3",
   "language": "python",
   "name": "python3"
  },
  "language_info": {
   "codemirror_mode": {
    "name": "ipython",
    "version": 3
   },
   "file_extension": ".py",
   "mimetype": "text/x-python",
   "name": "python",
   "nbconvert_exporter": "python",
   "pygments_lexer": "ipython3",
   "version": "3.5.5"
  }
 },
 "nbformat": 4,
 "nbformat_minor": 2
}
