{
 "cells": [
  {
   "cell_type": "code",
   "execution_count": 1,
   "metadata": {},
   "outputs": [],
   "source": [
    "def opposite(number):\n",
    "  return -1 * number"
   ]
  },
  {
   "cell_type": "code",
   "execution_count": 2,
   "metadata": {},
   "outputs": [
    {
     "name": "stdout",
     "output_type": "stream",
     "text": [
      "-14\n"
     ]
    }
   ],
   "source": [
    "print(opposite(14))"
   ]
  },
  {
   "cell_type": "code",
   "execution_count": 13,
   "metadata": {},
   "outputs": [],
   "source": [
    "def loopOppsiteNumber(number):\n",
    "    for x in range(-number, number):\n",
    "         print (\"We're on time %d\" % (x))\n"
   ]
  },
  {
   "cell_type": "code",
   "execution_count": 14,
   "metadata": {},
   "outputs": [
    {
     "name": "stdout",
     "output_type": "stream",
     "text": [
      "We're on time -14\n",
      "We're on time -13\n",
      "We're on time -12\n",
      "We're on time -11\n",
      "We're on time -10\n",
      "We're on time -9\n",
      "We're on time -8\n",
      "We're on time -7\n",
      "We're on time -6\n",
      "We're on time -5\n",
      "We're on time -4\n",
      "We're on time -3\n",
      "We're on time -2\n",
      "We're on time -1\n",
      "We're on time 0\n",
      "We're on time 1\n",
      "We're on time 2\n",
      "We're on time 3\n",
      "We're on time 4\n",
      "We're on time 5\n",
      "We're on time 6\n",
      "We're on time 7\n",
      "We're on time 8\n",
      "We're on time 9\n",
      "We're on time 10\n",
      "We're on time 11\n",
      "We're on time 12\n",
      "We're on time 13\n"
     ]
    }
   ],
   "source": [
    "(loopOppsiteNumber(14))"
   ]
  },
  {
   "cell_type": "code",
   "execution_count": 15,
   "metadata": {},
   "outputs": [
    {
     "name": "stdout",
     "output_type": "stream",
     "text": [
      "2\n"
     ]
    }
   ],
   "source": [
    "print(opposite(---2))"
   ]
  },
  {
   "cell_type": "code",
   "execution_count": 19,
   "metadata": {},
   "outputs": [],
   "source": [
    "def checkNegativeWalk(number):\n",
    "    for x in range(-number, number):\n",
    "         print (\"We're on time %d\" % (x))"
   ]
  },
  {
   "cell_type": "code",
   "execution_count": 20,
   "metadata": {},
   "outputs": [
    {
     "name": "stdout",
     "output_type": "stream",
     "text": [
      "2\n"
     ]
    }
   ],
   "source": [
    "print(checkNegativeWalk(---2))"
   ]
  },
  {
   "cell_type": "code",
   "execution_count": null,
   "metadata": {},
   "outputs": [],
   "source": []
  }
 ],
 "metadata": {
  "kernelspec": {
   "display_name": "Python 3",
   "language": "python",
   "name": "python3"
  },
  "language_info": {
   "codemirror_mode": {
    "name": "ipython",
    "version": 3
   },
   "file_extension": ".py",
   "mimetype": "text/x-python",
   "name": "python",
   "nbconvert_exporter": "python",
   "pygments_lexer": "ipython3",
   "version": "3.6.7"
  }
 },
 "nbformat": 4,
 "nbformat_minor": 2
}
