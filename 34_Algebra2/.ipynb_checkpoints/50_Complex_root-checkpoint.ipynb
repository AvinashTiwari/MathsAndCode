{
 "cells": [
  {
   "cell_type": "code",
   "execution_count": 1,
   "metadata": {},
   "outputs": [],
   "source": [
    "import numpy as np\n",
    "import sympy as sym\n",
    "from IPython.display import display,Math\n",
    "import scipy as sp\n",
    "import matplotlib.pyplot as plt"
   ]
  },
  {
   "cell_type": "code",
   "execution_count": 2,
   "metadata": {},
   "outputs": [
    {
     "name": "stdout",
     "output_type": "stream",
     "text": [
      "(1+0j)\n",
      "(0.30901699437494745+0.9510565162951535j)\n",
      "(-0.8090169943749473+0.5877852522924732j)\n",
      "(-0.8090169943749475-0.587785252292473j)\n",
      "(0.30901699437494723-0.9510565162951536j)\n"
     ]
    }
   ],
   "source": [
    "n = 5\n",
    "\n",
    "for k in range(0,n):\n",
    "    root = np.exp(2*np.pi*1j*k/n)\n",
    "    print(root)"
   ]
  },
  {
   "cell_type": "code",
   "execution_count": 3,
   "metadata": {},
   "outputs": [
    {
     "data": {
      "text/latex": [
       "$$(1)^5 \\Rightarrow 1$$"
      ],
      "text/plain": [
       "<IPython.core.display.Math object>"
      ]
     },
     "metadata": {},
     "output_type": "display_data"
    },
    {
     "data": {
      "text/latex": [
       "$$(e^{\\frac{2 \\pi}{5} i})^5 \\Rightarrow 1$$"
      ],
      "text/plain": [
       "<IPython.core.display.Math object>"
      ]
     },
     "metadata": {},
     "output_type": "display_data"
    },
    {
     "data": {
      "text/latex": [
       "$$(e^{\\frac{4 \\pi}{5} i})^5 \\Rightarrow 1$$"
      ],
      "text/plain": [
       "<IPython.core.display.Math object>"
      ]
     },
     "metadata": {},
     "output_type": "display_data"
    },
    {
     "data": {
      "text/latex": [
       "$$(e^{\\frac{6 \\pi}{5} i})^5 \\Rightarrow 1$$"
      ],
      "text/plain": [
       "<IPython.core.display.Math object>"
      ]
     },
     "metadata": {},
     "output_type": "display_data"
    },
    {
     "data": {
      "text/latex": [
       "$$(e^{\\frac{8 \\pi}{5} i})^5 \\Rightarrow 1$$"
      ],
      "text/plain": [
       "<IPython.core.display.Math object>"
      ]
     },
     "metadata": {},
     "output_type": "display_data"
    }
   ],
   "source": [
    "n = 5\n",
    "\n",
    "for k in range(0,n):\n",
    "    z = sym.exp(2*sym.pi*sym.I*k/n)\n",
    "    #print(z**n)\n",
    "    display(Math('(%s)^%s \\\\Rightarrow %s' %(sym.latex(z),n, sym.latex(z**n))))"
   ]
  },
  {
   "cell_type": "code",
   "execution_count": 4,
   "metadata": {},
   "outputs": [
    {
     "data": {
      "text/latex": [
       "$$(1)^{17} \\Rightarrow 1$$"
      ],
      "text/plain": [
       "<IPython.core.display.Math object>"
      ]
     },
     "metadata": {},
     "output_type": "display_data"
    },
    {
     "data": {
      "text/latex": [
       "$$(e^{\\frac{2 \\pi}{17} i})^{17} \\Rightarrow 1$$"
      ],
      "text/plain": [
       "<IPython.core.display.Math object>"
      ]
     },
     "metadata": {},
     "output_type": "display_data"
    },
    {
     "data": {
      "text/latex": [
       "$$(e^{\\frac{4 \\pi}{17} i})^{17} \\Rightarrow 1$$"
      ],
      "text/plain": [
       "<IPython.core.display.Math object>"
      ]
     },
     "metadata": {},
     "output_type": "display_data"
    },
    {
     "data": {
      "text/latex": [
       "$$(e^{\\frac{6 \\pi}{17} i})^{17} \\Rightarrow 1$$"
      ],
      "text/plain": [
       "<IPython.core.display.Math object>"
      ]
     },
     "metadata": {},
     "output_type": "display_data"
    },
    {
     "data": {
      "text/latex": [
       "$$(e^{\\frac{8 \\pi}{17} i})^{17} \\Rightarrow 1$$"
      ],
      "text/plain": [
       "<IPython.core.display.Math object>"
      ]
     },
     "metadata": {},
     "output_type": "display_data"
    },
    {
     "data": {
      "text/latex": [
       "$$(e^{\\frac{10 \\pi}{17} i})^{17} \\Rightarrow 1$$"
      ],
      "text/plain": [
       "<IPython.core.display.Math object>"
      ]
     },
     "metadata": {},
     "output_type": "display_data"
    },
    {
     "data": {
      "text/latex": [
       "$$(e^{\\frac{12 \\pi}{17} i})^{17} \\Rightarrow 1$$"
      ],
      "text/plain": [
       "<IPython.core.display.Math object>"
      ]
     },
     "metadata": {},
     "output_type": "display_data"
    },
    {
     "data": {
      "text/latex": [
       "$$(e^{\\frac{14 \\pi}{17} i})^{17} \\Rightarrow 1$$"
      ],
      "text/plain": [
       "<IPython.core.display.Math object>"
      ]
     },
     "metadata": {},
     "output_type": "display_data"
    },
    {
     "data": {
      "text/latex": [
       "$$(e^{\\frac{16 \\pi}{17} i})^{17} \\Rightarrow 1$$"
      ],
      "text/plain": [
       "<IPython.core.display.Math object>"
      ]
     },
     "metadata": {},
     "output_type": "display_data"
    },
    {
     "data": {
      "text/latex": [
       "$$(e^{\\frac{18 \\pi}{17} i})^{17} \\Rightarrow 1$$"
      ],
      "text/plain": [
       "<IPython.core.display.Math object>"
      ]
     },
     "metadata": {},
     "output_type": "display_data"
    },
    {
     "data": {
      "text/latex": [
       "$$(e^{\\frac{20 \\pi}{17} i})^{17} \\Rightarrow 1$$"
      ],
      "text/plain": [
       "<IPython.core.display.Math object>"
      ]
     },
     "metadata": {},
     "output_type": "display_data"
    },
    {
     "data": {
      "text/latex": [
       "$$(e^{\\frac{22 \\pi}{17} i})^{17} \\Rightarrow 1$$"
      ],
      "text/plain": [
       "<IPython.core.display.Math object>"
      ]
     },
     "metadata": {},
     "output_type": "display_data"
    },
    {
     "data": {
      "text/latex": [
       "$$(e^{\\frac{24 \\pi}{17} i})^{17} \\Rightarrow 1$$"
      ],
      "text/plain": [
       "<IPython.core.display.Math object>"
      ]
     },
     "metadata": {},
     "output_type": "display_data"
    },
    {
     "data": {
      "text/latex": [
       "$$(e^{\\frac{26 \\pi}{17} i})^{17} \\Rightarrow 1$$"
      ],
      "text/plain": [
       "<IPython.core.display.Math object>"
      ]
     },
     "metadata": {},
     "output_type": "display_data"
    },
    {
     "data": {
      "text/latex": [
       "$$(e^{\\frac{28 \\pi}{17} i})^{17} \\Rightarrow 1$$"
      ],
      "text/plain": [
       "<IPython.core.display.Math object>"
      ]
     },
     "metadata": {},
     "output_type": "display_data"
    },
    {
     "data": {
      "text/latex": [
       "$$(e^{\\frac{30 \\pi}{17} i})^{17} \\Rightarrow 1$$"
      ],
      "text/plain": [
       "<IPython.core.display.Math object>"
      ]
     },
     "metadata": {},
     "output_type": "display_data"
    },
    {
     "data": {
      "text/latex": [
       "$$(e^{\\frac{32 \\pi}{17} i})^{17} \\Rightarrow 1$$"
      ],
      "text/plain": [
       "<IPython.core.display.Math object>"
      ]
     },
     "metadata": {},
     "output_type": "display_data"
    }
   ],
   "source": [
    "n = 17\n",
    "\n",
    "for k in range(0,n):\n",
    "    z = sym.exp(2*sym.pi*sym.I*k/n)\n",
    "    #print(z**n)\n",
    "    display(Math('(%s)^{%s} \\\\Rightarrow %s' %(sym.latex(z),n, sym.latex(z**n))))"
   ]
  },
  {
   "cell_type": "code",
   "execution_count": 6,
   "metadata": {},
   "outputs": [
    {
     "data": {
      "text/latex": [
       "$$(1)^{4} \\Rightarrow 1$$"
      ],
      "text/plain": [
       "<IPython.core.display.Math object>"
      ]
     },
     "metadata": {},
     "output_type": "display_data"
    },
    {
     "data": {
      "text/latex": [
       "$$(e^{0.5 i \\pi})^{4} \\Rightarrow e^{2.0 i \\pi}$$"
      ],
      "text/plain": [
       "<IPython.core.display.Math object>"
      ]
     },
     "metadata": {},
     "output_type": "display_data"
    },
    {
     "data": {
      "text/latex": [
       "$$(e^{1.0 i \\pi})^{4} \\Rightarrow e^{4.0 i \\pi}$$"
      ],
      "text/plain": [
       "<IPython.core.display.Math object>"
      ]
     },
     "metadata": {},
     "output_type": "display_data"
    },
    {
     "data": {
      "text/latex": [
       "$$(e^{1.5 i \\pi})^{4} \\Rightarrow e^{6.0 i \\pi}$$"
      ],
      "text/plain": [
       "<IPython.core.display.Math object>"
      ]
     },
     "metadata": {},
     "output_type": "display_data"
    }
   ],
   "source": [
    "n = 4\n",
    "\n",
    "for k in range(0,n):\n",
    "    z = sym.exp(2*sym.pi*sym.I*k/n)\n",
    "    #print(z**n)\n",
    "    display(Math('(%s)^{%s} \\\\Rightarrow %s' %(sym.latex(z),n, sym.latex(z**n))))\n",
    "    "
   ]
  },
  {
   "cell_type": "code",
   "execution_count": 15,
   "metadata": {},
   "outputs": [
    {
     "data": {
      "image/png": "[encoded data removed]",
      "text/plain": [
       "<Figure size 432x288 with 1 Axes>"
      ]
     },
     "metadata": {},
     "output_type": "display_data"
    }
   ],
   "source": [
    "n = 14\n",
    "\n",
    "for k in range(0,n):\n",
    "    z = np.exp(2*np.pi*1j*k/n)\n",
    "    plt.plot([0,np.real(z)], [0, np.imag(z)])\n",
    "    \n",
    "plt.axis('square')\n",
    "x = np.linspace(0, 2*np.pi, 100)\n",
    "plt.plot(np.cos(x), np.sin(x), color='grey')\n",
    "plt.show()"
   ]
  },
  {
   "cell_type": "code",
   "execution_count": 23,
   "metadata": {},
   "outputs": [
    {
     "data": {
      "image/png": "[encoded data removed]",
      "text/plain": [
       "<Figure size 432x288 with 1 Axes>"
      ]
     },
     "metadata": {},
     "output_type": "display_data"
    }
   ],
   "source": [
    "n = 500\n",
    "\n",
    "for k in range(0,n):\n",
    "    z = k*(np.exp(2*np.pi*1j*k/n))\n",
    "    plt.plot([0,np.real(z)], [0, np.imag(z)], linewidth=2, color=[k/n, k/n , k/n])\n",
    "    \n",
    "plt.axis('square')\n",
    "plt.axis('off')\n",
    "plt.show()"
   ]
  },
  {
   "cell_type": "code",
   "execution_count": null,
   "metadata": {},
   "outputs": [],
   "source": []
  },
  {
   "cell_type": "code",
   "execution_count": null,
   "metadata": {},
   "outputs": [],
   "source": []
  }
 ],
 "metadata": {
  "kernelspec": {
   "display_name": "Python 3",
   "language": "python",
   "name": "python3"
  },
  "language_info": {
   "codemirror_mode": {
    "name": "ipython",
    "version": 3
   },
   "file_extension": ".py",
   "mimetype": "text/x-python",
   "name": "python",
   "nbconvert_exporter": "python",
   "pygments_lexer": "ipython3",
   "version": "3.5.5"
  }
 },
 "nbformat": 4,
 "nbformat_minor": 2
}
