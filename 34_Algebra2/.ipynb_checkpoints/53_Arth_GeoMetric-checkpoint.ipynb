{
 "cells": [
  {
   "cell_type": "code",
   "execution_count": 1,
   "metadata": {},
   "outputs": [],
   "source": [
    "import numpy as np\n",
    "import sympy as sym\n",
    "from IPython.display import display,Math\n",
    "import scipy as sp\n",
    "import matplotlib.pyplot as plt"
   ]
  },
  {
   "cell_type": "code",
   "execution_count": 10,
   "metadata": {},
   "outputs": [
    {
     "name": "stdout",
     "output_type": "stream",
     "text": [
      "[ 2  5  8 11 14 17 20 23 26 29]\n"
     ]
    }
   ],
   "source": [
    "a = 2\n",
    "d = 3\n",
    "maxn = 10\n",
    "ariseq = a + d*np.arange(0,maxn)\n",
    "print(ariseq)"
   ]
  },
  {
   "cell_type": "code",
   "execution_count": 11,
   "metadata": {},
   "outputs": [
    {
     "name": "stdout",
     "output_type": "stream",
     "text": [
      "[    2     6    18    54   162   486  1458  4374 13122 39366]\n"
     ]
    }
   ],
   "source": [
    "a = 2\n",
    "r = 3\n",
    "geoseq = a * r**np.arange(0,maxn)\n",
    "print(geoseq)"
   ]
  },
  {
   "cell_type": "code",
   "execution_count": 12,
   "metadata": {},
   "outputs": [
    {
     "data": {
      "image/png": "[encoded data removed]",
      "text/plain": [
       "<Figure size 432x288 with 1 Axes>"
      ]
     },
     "metadata": {},
     "output_type": "display_data"
    }
   ],
   "source": [
    "plt.plot(ariseq, 'ks', label='arithmetic')\n",
    "plt.plot(geoseq, 'ro', label='geometrc')\n",
    "plt.legend()\n",
    "plt.show()"
   ]
  },
  {
   "cell_type": "code",
   "execution_count": 15,
   "metadata": {},
   "outputs": [
    {
     "name": "stdout",
     "output_type": "stream",
     "text": [
      "17 17\n",
      "486 486\n"
     ]
    }
   ],
   "source": [
    "a = 2\n",
    "d = 3\n",
    "maxn = 10\n",
    "nth = 6\n",
    "ariseq = a + d*np.arange(0,maxn)\n",
    "geoseq = a * d**np.arange(0,maxn)\n",
    "\n",
    "aridirect = a + d*(nth-1)\n",
    "geodirect = a * d**(nth-1)\n",
    "print(aridirect , ariseq[nth-1])\n",
    "print(geodirect , geoseq[nth-1])"
   ]
  },
  {
   "cell_type": "code",
   "execution_count": null,
   "metadata": {},
   "outputs": [],
   "source": []
  }
 ],
 "metadata": {
  "kernelspec": {
   "display_name": "Python 3",
   "language": "python",
   "name": "python3"
  },
  "language_info": {
   "codemirror_mode": {
    "name": "ipython",
    "version": 3
   },
   "file_extension": ".py",
   "mimetype": "text/x-python",
   "name": "python",
   "nbconvert_exporter": "python",
   "pygments_lexer": "ipython3",
   "version": "3.5.5"
  }
 },
 "nbformat": 4,
 "nbformat_minor": 2
}
