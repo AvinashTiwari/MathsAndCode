{
 "cells": [
  {
   "cell_type": "code",
   "execution_count": 1,
   "metadata": {},
   "outputs": [],
   "source": [
    "import numpy as np\n",
    "import sympy as sym\n",
    "from IPython.display import display,Math"
   ]
  },
  {
   "cell_type": "code",
   "execution_count": 2,
   "metadata": {},
   "outputs": [
    {
     "data": {
      "text/latex": [
       "$$\\frac{(4+2j)}{2} = (2+1j)$$"
      ],
      "text/plain": [
       "<IPython.core.display.Math object>"
      ]
     },
     "metadata": {},
     "output_type": "display_data"
    }
   ],
   "source": [
    "z = np.complex(4,2)\n",
    "display(Math('\\\\frac{%s}{2} = %s'%(z,z/2)))"
   ]
  },
  {
   "cell_type": "code",
   "execution_count": 12,
   "metadata": {},
   "outputs": [
    {
     "data": {
      "text/latex": [
       "$$\\frac{(4+2j)}{(2-3j)} =  \\frac{(4+2j)\\times (2+3j)}{(2-3j)\\times (2+3j)} = 0.153846153846154 + 1.23076923076923 i$$"
      ],
      "text/plain": [
       "<IPython.core.display.Math object>"
      ]
     },
     "metadata": {},
     "output_type": "display_data"
    }
   ],
   "source": [
    "z1 = np.complex(4,2)\n",
    "z2 = np.complex(2,-3)\n",
    "display(Math('\\\\frac{%s}{%s} =  \\\\frac{%s\\\\times %s}{%s\\\\times %s} = %s'\n",
    "             %(z1,z2,\n",
    "               z1,np.conj(z2),z2, np.conj(z2),\n",
    "               sym.latex(sym.simplify(z1/z2))\n",
    "              )))"
   ]
  },
  {
   "cell_type": "code",
   "execution_count": 16,
   "metadata": {},
   "outputs": [],
   "source": [
    "z = np.complex(4,2)\n",
    "w = np.complex(3,5)\n",
    "\n",
    "left_numer = (z-1) * (z*w+w) \n",
    "left_denom = w*z-w\n",
    "left_part = left_numer / left_denom\n",
    "\n",
    "right_number = (w-1) * (1-w) \n",
    "right_denom = -w**2*z - w**2 + 2*w*z + 2*w -z -1\n",
    "right_part = right_number / right_denom\n",
    "\n",
    "sol = left_part * right_part"
   ]
  },
  {
   "cell_type": "code",
   "execution_count": 17,
   "metadata": {},
   "outputs": [
    {
     "name": "stdout",
     "output_type": "stream",
     "text": [
      "(1+0j)\n"
     ]
    }
   ],
   "source": [
    "print(sol)"
   ]
  },
  {
   "cell_type": "code",
   "execution_count": null,
   "metadata": {},
   "outputs": [],
   "source": []
  }
 ],
 "metadata": {
  "kernelspec": {
   "display_name": "Python 3",
   "language": "python",
   "name": "python3"
  },
  "language_info": {
   "codemirror_mode": {
    "name": "ipython",
    "version": 3
   },
   "file_extension": ".py",
   "mimetype": "text/x-python",
   "name": "python",
   "nbconvert_exporter": "python",
   "pygments_lexer": "ipython3",
   "version": "3.5.5"
  }
 },
 "nbformat": 4,
 "nbformat_minor": 2
}
