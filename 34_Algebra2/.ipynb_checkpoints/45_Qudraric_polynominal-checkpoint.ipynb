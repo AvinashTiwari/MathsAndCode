{
 "cells": [
  {
   "cell_type": "code",
   "execution_count": 2,
   "metadata": {},
   "outputs": [],
   "source": [
    "import numpy as np\n",
    "import sympy as sym\n",
    "from IPython.display import display,Math\n",
    "import scipy as sp\n",
    "import matplotlib.pyplot as plt\n"
   ]
  },
  {
   "cell_type": "code",
   "execution_count": 3,
   "metadata": {},
   "outputs": [
    {
     "name": "stdout",
     "output_type": "stream",
     "text": [
      "-1.0\n",
      "-2.5\n"
     ]
    }
   ],
   "source": [
    "a = 2\n",
    "b = 7\n",
    "c = 5\n",
    "\n",
    "quadeqP = (-b + np.sqrt(b**2 - 4*a*c)) /(2 * a) \n",
    "quadeqN = (-b - np.sqrt(b**2 - 4*a*c)) /(2 * a) \n",
    "print(quadeqP)\n",
    "print(quadeqN)"
   ]
  },
  {
   "cell_type": "code",
   "execution_count": 4,
   "metadata": {},
   "outputs": [
    {
     "name": "stdout",
     "output_type": "stream",
     "text": [
      "nan\n",
      "nan\n"
     ]
    },
    {
     "name": "stderr",
     "output_type": "stream",
     "text": [
      "C:\\ProgramData\\Anaconda3\\envs\\learnMath\\lib\\site-packages\\ipykernel_launcher.py:5: RuntimeWarning: invalid value encountered in sqrt\n",
      "  \"\"\"\n",
      "C:\\ProgramData\\Anaconda3\\envs\\learnMath\\lib\\site-packages\\ipykernel_launcher.py:6: RuntimeWarning: invalid value encountered in sqrt\n",
      "  \n"
     ]
    }
   ],
   "source": [
    "a = 3\n",
    "b = 7\n",
    "c = 5\n",
    "\n",
    "quadeqP = (-b + np.sqrt(b**2 - 4*a*c)) /(2 * a) \n",
    "quadeqN = (-b - np.sqrt(b**2 - 4*a*c)) /(2 * a) \n",
    "print(quadeqP)\n",
    "print(quadeqN)"
   ]
  },
  {
   "cell_type": "code",
   "execution_count": 5,
   "metadata": {},
   "outputs": [
    {
     "name": "stdout",
     "output_type": "stream",
     "text": [
      "(-1.1666666666666665+0.5527707983925666j)\n",
      "(-1.1666666666666665-0.5527707983925666j)\n"
     ]
    }
   ],
   "source": [
    "a = 3\n",
    "b = 7\n",
    "c = 5\n",
    "\n",
    "quadeqP = (-b + sp.sqrt(b**2 - 4*a*c)) /(2 * a) \n",
    "quadeqN = (-b - sp.sqrt(b**2 - 4*a*c)) /(2 * a) \n",
    "print(quadeqP)\n",
    "print(quadeqN)"
   ]
  },
  {
   "cell_type": "code",
   "execution_count": 6,
   "metadata": {},
   "outputs": [],
   "source": [
    "def quardeq(a,b,c):\n",
    "    out = sp.zeros(2)\n",
    "    out[0] = (-b + sp.sqrt(b**2 - 4*a*c)) /(2 * a) \n",
    "    out[1] = (-b - sp.sqrt(b**2 - 4*a*c)) /(2 * a) \n",
    "    return out\n",
    "    "
   ]
  },
  {
   "cell_type": "code",
   "execution_count": 7,
   "metadata": {},
   "outputs": [
    {
     "name": "stdout",
     "output_type": "stream",
     "text": [
      "[-1.  -2.5]\n"
     ]
    }
   ],
   "source": [
    "print(quardeq(2,7,5))"
   ]
  },
  {
   "cell_type": "code",
   "execution_count": 12,
   "metadata": {},
   "outputs": [
    {
     "name": "stderr",
     "output_type": "stream",
     "text": [
      "C:\\ProgramData\\Anaconda3\\envs\\learnMath\\lib\\site-packages\\ipykernel_launcher.py:3: ComplexWarning: Casting complex values to real discards the imaginary part\n",
      "  This is separate from the ipykernel package so we can avoid doing imports until\n",
      "C:\\ProgramData\\Anaconda3\\envs\\learnMath\\lib\\site-packages\\ipykernel_launcher.py:4: ComplexWarning: Casting complex values to real discards the imaginary part\n",
      "  after removing the cwd from sys.path.\n"
     ]
    },
    {
     "data": {
      "image/png": "[encoded data removed]",
      "text/plain": [
       "<Figure size 432x288 with 1 Axes>"
      ]
     },
     "metadata": {},
     "output_type": "display_data"
    },
    {
     "data": {
      "image/png": "[encoded data removed]",
      "text/plain": [
       "<Figure size 432x288 with 1 Axes>"
      ]
     },
     "metadata": {},
     "output_type": "display_data"
    }
   ],
   "source": [
    "a = 1\n",
    "b = range(-5,6)\n",
    "c = range(-2,11)\n",
    "\n",
    "M = np.zeros((len(b), len(c)), dtype=complex)\n",
    "\n",
    "for bi in range(0, len(b)):\n",
    "    for ci in range(0, len(c)):\n",
    "        M[bi,ci]=quardeq(a,b[bi], c[ci])[0]\n",
    "\n",
    "plt.subplot(1,3,1)\n",
    "m = np.real(M)\n",
    "plt.imshow(m, extent=[c[0], c[-1], b[0], b[-1]])\n",
    "plt.axis('off')\n",
    "plt.title('ral part')\n",
    "#plt.colorbar()\n",
    "plt.show()\n",
    "\n",
    "plt.subplot(1,3,2)\n",
    "m = np.imag(M)\n",
    "plt.imshow(m, extent=[c[0], c[-1], b[0], b[-1]])\n",
    "plt.axis('off')\n",
    "plt.title('imag part')\n",
    "#plt.colorbar()\n",
    "plt.show()\n",
    "\n",
    "plt.subplot(1,3,3)\n",
    "m = np.absolute(M)\n",
    "plt.imshow(m, extent=[c[0], c[-1], b[0], b[-1]])\n",
    "plt.axis('off')\n",
    "plt.title('Magnat')\n",
    "#plt.colorbar()\n",
    "plt.show()"
   ]
  },
  {
   "cell_type": "code",
   "execution_count": null,
   "metadata": {},
   "outputs": [],
   "source": []
  },
  {
   "cell_type": "code",
   "execution_count": null,
   "metadata": {},
   "outputs": [],
   "source": []
  },
  {
   "cell_type": "code",
   "execution_count": null,
   "metadata": {},
   "outputs": [],
   "source": []
  }
 ],
 "metadata": {
  "kernelspec": {
   "display_name": "Python 3",
   "language": "python",
   "name": "python3"
  },
  "language_info": {
   "codemirror_mode": {
    "name": "ipython",
    "version": 3
   },
   "file_extension": ".py",
   "mimetype": "text/x-python",
   "name": "python",
   "nbconvert_exporter": "python",
   "pygments_lexer": "ipython3",
   "version": "3.5.5"
  }
 },
 "nbformat": 4,
 "nbformat_minor": 2
}
