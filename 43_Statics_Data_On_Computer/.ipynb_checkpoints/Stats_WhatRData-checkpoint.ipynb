{
 "cells": [
  {
   "cell_type": "code",
   "execution_count": 4,
   "metadata": {},
   "outputs": [],
   "source": [
    "number = [1,7,17,1717]\n",
    "chardata = 'xyz'\n",
    "strdata = \"x\"\n",
    "logidata = True\n",
    "listData = [[3,4,24], 'hello', 4]\n",
    "dictdata = dict()\n",
    "dictdata['name'] = 'Mike'\n",
    "dictdata['age'] = 25\n",
    "dictdata['occupation'] =  'computer'"
   ]
  },
  {
   "cell_type": "code",
   "execution_count": 5,
   "metadata": {},
   "outputs": [
    {
     "name": "stdout",
     "output_type": "stream",
     "text": [
      "Variable   Type    Data/Info\n",
      "----------------------------\n",
      "chardata   str     xyz\n",
      "dictdata   dict    n=3\n",
      "listData   list    n=3\n",
      "logidata   bool    True\n",
      "number     list    n=4\n",
      "strdata    str     x\n"
     ]
    }
   ],
   "source": [
    "%whos"
   ]
  },
  {
   "cell_type": "code",
   "execution_count": 6,
   "metadata": {},
   "outputs": [],
   "source": [
    "%reset -sf"
   ]
  },
  {
   "cell_type": "code",
   "execution_count": null,
   "metadata": {},
   "outputs": [],
   "source": [
    "%whos"
   ]
  }
 ],
 "metadata": {
  "kernelspec": {
   "display_name": "Python 3",
   "language": "python",
   "name": "python3"
  },
  "language_info": {
   "codemirror_mode": {
    "name": "ipython",
    "version": 3
   },
   "file_extension": ".py",
   "mimetype": "text/x-python",
   "name": "python",
   "nbconvert_exporter": "python",
   "pygments_lexer": "ipython3",
   "version": "3.5.5"
  }
 },
 "nbformat": 4,
 "nbformat_minor": 2
}
