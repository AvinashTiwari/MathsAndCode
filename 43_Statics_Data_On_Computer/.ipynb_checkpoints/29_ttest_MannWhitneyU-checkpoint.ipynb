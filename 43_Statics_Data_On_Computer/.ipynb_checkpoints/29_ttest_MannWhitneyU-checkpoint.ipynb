{
 "cells": [
  {
   "cell_type": "markdown",
   "metadata": {},
   "source": []
  },
  {
   "cell_type": "code",
   "execution_count": 1,
   "metadata": {},
   "outputs": [],
   "source": [
    "# import libraries\n",
    "import matplotlib.pyplot as plt\n",
    "import numpy as np\n",
    "import scipy.stats as stats"
   ]
  },
  {
   "cell_type": "code",
   "execution_count": 2,
   "metadata": {},
   "outputs": [
    {
     "data": {
      "image/png": "[encoded data removed]",
      "text/plain": [
       "<Figure size 432x288 with 1 Axes>"
      ]
     },
     "metadata": {
      "needs_background": "light"
     },
     "output_type": "display_data"
    }
   ],
   "source": [
    "## generate the data\n",
    "\n",
    "# the data (note the different sample sizes)\n",
    "N1 = 30\n",
    "N2 = 35\n",
    "\n",
    "data1 = np.random.poisson(2,N1)\n",
    "data2 = np.random.poisson(1,N2)\n",
    "\n",
    "plt.plot(1+np.random.randn(N1)/10,data1,'ks',markerfacecolor='w')\n",
    "plt.plot(2+np.random.randn(N2)/10,data2,'ro',markerfacecolor='w')\n",
    "\n",
    "plt.xlim([0,3])\n",
    "plt.xticks([1,2],labels=('data1','data2'))\n",
    "plt.xlabel('Data group')\n",
    "plt.ylabel('Data value')\n",
    "plt.show()"
   ]
  },
  {
   "cell_type": "code",
   "execution_count": 3,
   "metadata": {},
   "outputs": [
    {
     "name": "stdout",
     "output_type": "stream",
     "text": [
      "183.0 1.182094826361334e-06\n"
     ]
    }
   ],
   "source": [
    "## now for the test\n",
    "\n",
    "U,p = stats.mannwhitneyu(data1,data2)\n",
    "\n",
    "print(U,p)"
   ]
  },
  {
   "cell_type": "code",
   "execution_count": null,
   "metadata": {},
   "outputs": [],
   "source": []
  }
 ],
 "metadata": {
  "kernelspec": {
   "display_name": "Python 3",
   "language": "python",
   "name": "python3"
  },
  "language_info": {
   "codemirror_mode": {
    "name": "ipython",
    "version": 3
   },
   "file_extension": ".py",
   "mimetype": "text/x-python",
   "name": "python",
   "nbconvert_exporter": "python",
   "pygments_lexer": "ipython3",
   "version": "3.7.9"
  }
 },
 "nbformat": 4,
 "nbformat_minor": 4
}
