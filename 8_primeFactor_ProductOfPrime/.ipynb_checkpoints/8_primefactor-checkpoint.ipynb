{
 "cells": [
  {
   "cell_type": "code",
   "execution_count": 1,
   "metadata": {},
   "outputs": [],
   "source": [
    "import math \n"
   ]
  },
  {
   "cell_type": "code",
   "execution_count": 3,
   "metadata": {},
   "outputs": [],
   "source": [
    "def primeFactors(n): \n",
    "      \n",
    "    # Print the number of two's that divide n \n",
    "    while n % 2 == 0: \n",
    "        print (2), \n",
    "        n = n / 2\n",
    "          \n",
    "    # n must be odd at this point \n",
    "    # so a skip of 2 ( i = i + 2) can be used \n",
    "    for i in range(3,int(math.sqrt(n))+1,2): \n",
    "          \n",
    "        # while i divides n , print i ad divide n \n",
    "        while n % i== 0: \n",
    "            print (i), \n",
    "            n = n / i \n",
    "              \n",
    "    # Condition if n is a prime \n",
    "    # number greater than 2 \n",
    "    if n > 2: \n",
    "        print (n) "
   ]
  },
  {
   "cell_type": "code",
   "execution_count": 5,
   "metadata": {},
   "outputs": [
    {
     "name": "stdout",
     "output_type": "stream",
     "text": [
      "2\n",
      "3\n",
      "17.0\n"
     ]
    }
   ],
   "source": [
    "n = 102\n",
    "primeFactors(n) "
   ]
  },
  {
   "cell_type": "code",
   "execution_count": 6,
   "metadata": {},
   "outputs": [
    {
     "name": "stdout",
     "output_type": "stream",
     "text": [
      "2\n",
      "2\n",
      "3\n",
      "7.0\n"
     ]
    }
   ],
   "source": [
    "n = 84\n",
    "primeFactors(n) "
   ]
  },
  {
   "cell_type": "code",
   "execution_count": 7,
   "metadata": {},
   "outputs": [
    {
     "name": "stdout",
     "output_type": "stream",
     "text": [
      "2\n",
      "2\n",
      "2\n",
      "3.0\n"
     ]
    }
   ],
   "source": [
    "n = 24\n",
    "primeFactors(n)"
   ]
  },
  {
   "cell_type": "code",
   "execution_count": 8,
   "metadata": {},
   "outputs": [
    {
     "name": "stdout",
     "output_type": "stream",
     "text": [
      "3\n",
      "5.0\n"
     ]
    }
   ],
   "source": [
    "n = 15\n",
    "primeFactors(n)"
   ]
  },
  {
   "cell_type": "code",
   "execution_count": null,
   "metadata": {},
   "outputs": [],
   "source": []
  }
 ],
 "metadata": {
  "kernelspec": {
   "display_name": "Python 3",
   "language": "python",
   "name": "python3"
  },
  "language_info": {
   "codemirror_mode": {
    "name": "ipython",
    "version": 3
   },
   "file_extension": ".py",
   "mimetype": "text/x-python",
   "name": "python",
   "nbconvert_exporter": "python",
   "pygments_lexer": "ipython3",
   "version": "3.6.7"
  }
 },
 "nbformat": 4,
 "nbformat_minor": 2
}
