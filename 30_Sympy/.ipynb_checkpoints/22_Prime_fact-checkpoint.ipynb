{
 "cells": [
  {
   "cell_type": "code",
   "execution_count": 1,
   "metadata": {},
   "outputs": [],
   "source": [
    "import sympy as sym\n",
    "sym.init_printing()\n",
    "from IPython.display import display , Math\n",
    "import numpy as np\n",
    "from sympy.abc import x,y \n",
    "import math"
   ]
  },
  {
   "cell_type": "code",
   "execution_count": 3,
   "metadata": {},
   "outputs": [],
   "source": [
    "number = 48\n",
    "factdict = sym.factorint(48)"
   ]
  },
  {
   "cell_type": "code",
   "execution_count": 4,
   "metadata": {},
   "outputs": [
    {
     "name": "stdout",
     "output_type": "stream",
     "text": [
      "{2: 4, 3: 1}\n"
     ]
    }
   ],
   "source": [
    "print(factdict)"
   ]
  },
  {
   "cell_type": "code",
   "execution_count": 5,
   "metadata": {},
   "outputs": [
    {
     "name": "stdout",
     "output_type": "stream",
     "text": [
      "<built-in method keys of dict object at 0x000002048AA91448>\n"
     ]
    }
   ],
   "source": [
    "print(factdict.keys)"
   ]
  },
  {
   "cell_type": "code",
   "execution_count": 9,
   "metadata": {},
   "outputs": [
    {
     "name": "stdout",
     "output_type": "stream",
     "text": [
      "2 number is prime number\n",
      "3 number is prime number\n",
      "4 number is compiste number with  prime factor: dict_keys([2]) \n",
      "5 number is prime number\n",
      "6 number is compiste number with  prime factor: dict_keys([2, 3]) \n",
      "7 number is prime number\n",
      "8 number is compiste number with  prime factor: dict_keys([2]) \n",
      "9 number is compiste number with  prime factor: dict_keys([3]) \n",
      "10 number is compiste number with  prime factor: dict_keys([2, 5]) \n",
      "11 number is prime number\n",
      "12 number is compiste number with  prime factor: dict_keys([2, 3]) \n",
      "13 number is prime number\n",
      "14 number is compiste number with  prime factor: dict_keys([2, 7]) \n",
      "15 number is compiste number with  prime factor: dict_keys([3, 5]) \n",
      "16 number is compiste number with  prime factor: dict_keys([2]) \n",
      "17 number is prime number\n",
      "18 number is compiste number with  prime factor: dict_keys([2, 3]) \n",
      "19 number is prime number\n",
      "20 number is compiste number with  prime factor: dict_keys([2, 5]) \n",
      "21 number is compiste number with  prime factor: dict_keys([3, 7]) \n",
      "22 number is compiste number with  prime factor: dict_keys([2, 11]) \n",
      "23 number is prime number\n",
      "24 number is compiste number with  prime factor: dict_keys([2, 3]) \n",
      "25 number is compiste number with  prime factor: dict_keys([5]) \n",
      "26 number is compiste number with  prime factor: dict_keys([2, 13]) \n",
      "27 number is compiste number with  prime factor: dict_keys([3]) \n",
      "28 number is compiste number with  prime factor: dict_keys([2, 7]) \n",
      "29 number is prime number\n",
      "30 number is compiste number with  prime factor: dict_keys([2, 3, 5]) \n",
      "31 number is prime number\n",
      "32 number is compiste number with  prime factor: dict_keys([2]) \n",
      "33 number is compiste number with  prime factor: dict_keys([11, 3]) \n",
      "34 number is compiste number with  prime factor: dict_keys([17, 2]) \n",
      "35 number is compiste number with  prime factor: dict_keys([5, 7]) \n",
      "36 number is compiste number with  prime factor: dict_keys([2, 3]) \n",
      "37 number is prime number\n",
      "38 number is compiste number with  prime factor: dict_keys([2, 19]) \n",
      "39 number is compiste number with  prime factor: dict_keys([3, 13]) \n",
      "40 number is compiste number with  prime factor: dict_keys([2, 5]) \n",
      "41 number is prime number\n",
      "42 number is compiste number with  prime factor: dict_keys([2, 3, 7]) \n",
      "43 number is prime number\n",
      "44 number is compiste number with  prime factor: dict_keys([2, 11]) \n",
      "45 number is compiste number with  prime factor: dict_keys([3, 5]) \n",
      "46 number is compiste number with  prime factor: dict_keys([2, 23]) \n",
      "47 number is prime number\n",
      "48 number is compiste number with  prime factor: dict_keys([2, 3]) \n",
      "49 number is compiste number with  prime factor: dict_keys([7]) \n",
      "50 number is compiste number with  prime factor: dict_keys([2, 5]) \n"
     ]
    }
   ],
   "source": [
    "nums = range(2,51)\n",
    "for numi in nums:\n",
    "    di = sym.factorint(numi)\n",
    "    ks = list(di.keys())\n",
    "    if len(di) == 1 and di[ks[0]] == 1:\n",
    "        print(\"%g number is prime number\" %numi)\n",
    "    else:\n",
    "         print(\"%g number is compiste number with  prime factor: %s \" %(numi, list(di.keys())))"
   ]
  },
  {
   "cell_type": "code",
   "execution_count": null,
   "metadata": {},
   "outputs": [],
   "source": []
  }
 ],
 "metadata": {
  "kernelspec": {
   "display_name": "Python 3",
   "language": "python",
   "name": "python3"
  },
  "language_info": {
   "codemirror_mode": {
    "name": "ipython",
    "version": 3
   },
   "file_extension": ".py",
   "mimetype": "text/x-python",
   "name": "python",
   "nbconvert_exporter": "python",
   "pygments_lexer": "ipython3",
   "version": "3.5.5"
  }
 },
 "nbformat": 4,
 "nbformat_minor": 2
}
