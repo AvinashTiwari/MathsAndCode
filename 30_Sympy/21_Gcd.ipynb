{
 "cells": [
  {
   "cell_type": "code",
   "execution_count": 1,
   "metadata": {},
   "outputs": [],
   "source": [
    "import sympy as sym\n",
    "sym.init_printing()\n",
    "from IPython.display import display , Math\n",
    "import numpy as np\n",
    "from sympy.abc import x,y \n",
    "import math"
   ]
  },
  {
   "cell_type": "code",
   "execution_count": 2,
   "metadata": {},
   "outputs": [
    {
     "data": {
      "image/png": "[encoded data removed]",
      "text/latex": [
       "$$3$$"
      ],
      "text/plain": [
       "3"
      ]
     },
     "execution_count": 2,
     "metadata": {},
     "output_type": "execute_result"
    }
   ],
   "source": [
    "math.gcd(6,15)"
   ]
  },
  {
   "cell_type": "code",
   "execution_count": 3,
   "metadata": {},
   "outputs": [
    {
     "data": {
      "image/png": "[encoded data removed]",
      "text/latex": [
       "$$5$$"
      ],
      "text/plain": [
       "5"
      ]
     },
     "execution_count": 3,
     "metadata": {},
     "output_type": "execute_result"
    }
   ],
   "source": [
    "math.gcd(95,100)"
   ]
  },
  {
   "cell_type": "code",
   "execution_count": 4,
   "metadata": {},
   "outputs": [
    {
     "data": {
      "image/png": "[encoded data removed]",
      "text/latex": [
       "$$8$$"
      ],
      "text/plain": [
       "8"
      ]
     },
     "execution_count": 4,
     "metadata": {},
     "output_type": "execute_result"
    }
   ],
   "source": [
    "a = 16\n",
    "b = 88\n",
    "fact = math.gcd(16,88)\n",
    "fact"
   ]
  },
  {
   "cell_type": "code",
   "execution_count": 5,
   "metadata": {},
   "outputs": [
    {
     "data": {
      "text/latex": [
       "$$\\frac{16}{88} = \\frac{2\\times 8}{11\\times 8} $$"
      ],
      "text/plain": [
       "<IPython.core.display.Math object>"
      ]
     },
     "metadata": {},
     "output_type": "display_data"
    }
   ],
   "source": [
    "display(Math('\\\\frac{%g}{%g} = \\\\frac{%g\\\\times %g}{%g\\\\times %g} '%(a,b,a/fact,fact,b/fact,fact)))"
   ]
  },
  {
   "cell_type": "code",
   "execution_count": 6,
   "metadata": {},
   "outputs": [],
   "source": [
    "a,b,c = sym.symbols(\"a b c\")"
   ]
  },
  {
   "cell_type": "code",
   "execution_count": 7,
   "metadata": {},
   "outputs": [
    {
     "data": {
      "image/png": "[encoded data removed]",
      "text/latex": [
       "$$c$$"
      ],
      "text/plain": [
       "c"
      ]
     },
     "execution_count": 7,
     "metadata": {},
     "output_type": "execute_result"
    }
   ],
   "source": [
    "sym.gcd(a*c, b*c)"
   ]
  },
  {
   "cell_type": "code",
   "execution_count": 8,
   "metadata": {},
   "outputs": [
    {
     "name": "stdout",
     "output_type": "stream",
     "text": [
      "1\n"
     ]
    }
   ],
   "source": [
    "print(sym.gcd(a,b))"
   ]
  },
  {
   "cell_type": "code",
   "execution_count": 14,
   "metadata": {},
   "outputs": [],
   "source": [
    "a = 15\n",
    "b = 6\n",
    "c = 7"
   ]
  },
  {
   "cell_type": "code",
   "execution_count": 15,
   "metadata": {},
   "outputs": [
    {
     "name": "stdout",
     "output_type": "stream",
     "text": [
      "21\n",
      "21\n"
     ]
    }
   ],
   "source": [
    "print(sym.gcd(a*c, b*c))\n",
    "print(c*math.gcd(a,b))"
   ]
  },
  {
   "cell_type": "code",
   "execution_count": 16,
   "metadata": {},
   "outputs": [],
   "source": [
    "n = 10\n",
    "m = 15"
   ]
  },
  {
   "cell_type": "code",
   "execution_count": 20,
   "metadata": {},
   "outputs": [],
   "source": [
    "gcdmat = np.zeros([n,m])+99"
   ]
  },
  {
   "cell_type": "code",
   "execution_count": 21,
   "metadata": {},
   "outputs": [
    {
     "name": "stdout",
     "output_type": "stream",
     "text": [
      "[[99. 99. 99. 99. 99. 99. 99. 99. 99. 99. 99. 99. 99. 99. 99.]\n",
      " [99. 99. 99. 99. 99. 99. 99. 99. 99. 99. 99. 99. 99. 99. 99.]\n",
      " [99. 99. 99. 99. 99. 99. 99. 99. 99. 99. 99. 99. 99. 99. 99.]\n",
      " [99. 99. 99. 99. 99. 99. 99. 99. 99. 99. 99. 99. 99. 99. 99.]\n",
      " [99. 99. 99. 99. 99. 99. 99. 99. 99. 99. 99. 99. 99. 99. 99.]\n",
      " [99. 99. 99. 99. 99. 99. 99. 99. 99. 99. 99. 99. 99. 99. 99.]\n",
      " [99. 99. 99. 99. 99. 99. 99. 99. 99. 99. 99. 99. 99. 99. 99.]\n",
      " [99. 99. 99. 99. 99. 99. 99. 99. 99. 99. 99. 99. 99. 99. 99.]\n",
      " [99. 99. 99. 99. 99. 99. 99. 99. 99. 99. 99. 99. 99. 99. 99.]\n",
      " [99. 99. 99. 99. 99. 99. 99. 99. 99. 99. 99. 99. 99. 99. 99.]]\n"
     ]
    }
   ],
   "source": [
    "print(gcdmat)"
   ]
  },
  {
   "cell_type": "code",
   "execution_count": 23,
   "metadata": {},
   "outputs": [
    {
     "name": "stdout",
     "output_type": "stream",
     "text": [
      "[[ 1.  1.  1.  1.  1.  1.  1.  1.  1.  1. 99. 99. 99. 99. 99.]\n",
      " [ 1.  2.  1.  2.  1.  2.  1.  2.  1.  2. 99. 99. 99. 99. 99.]\n",
      " [ 1.  1.  3.  1.  1.  3.  1.  1.  3.  1. 99. 99. 99. 99. 99.]\n",
      " [ 1.  2.  1.  4.  1.  2.  1.  4.  1.  2. 99. 99. 99. 99. 99.]\n",
      " [ 1.  1.  1.  1.  5.  1.  1.  1.  1.  5. 99. 99. 99. 99. 99.]\n",
      " [ 1.  2.  3.  2.  1.  6.  1.  2.  3.  2. 99. 99. 99. 99. 99.]\n",
      " [ 1.  1.  1.  1.  1.  1.  7.  1.  1.  1. 99. 99. 99. 99. 99.]\n",
      " [ 1.  2.  1.  4.  1.  2.  1.  8.  1.  2. 99. 99. 99. 99. 99.]\n",
      " [ 1.  1.  3.  1.  1.  3.  1.  1.  9.  1. 99. 99. 99. 99. 99.]\n",
      " [ 1.  2.  1.  2.  5.  2.  1.  2.  1. 10. 99. 99. 99. 99. 99.]]\n"
     ]
    }
   ],
   "source": [
    "for rowi in range(0,n):\n",
    "    for coli in range(0,n):\n",
    "        gcdmat[rowi,coli] = math.gcd(rowi+1, coli+1)\n",
    "        \n",
    "print(gcdmat)\n",
    "    "
   ]
  },
  {
   "cell_type": "code",
   "execution_count": null,
   "metadata": {},
   "outputs": [],
   "source": [
    "display(Math(sym.latex(sym.simplify(gcdmat))))"
   ]
  }
 ],
 "metadata": {
  "kernelspec": {
   "display_name": "Python 3",
   "language": "python",
   "name": "python3"
  },
  "language_info": {
   "codemirror_mode": {
    "name": "ipython",
    "version": 3
   },
   "file_extension": ".py",
   "mimetype": "text/x-python",
   "name": "python",
   "nbconvert_exporter": "python",
   "pygments_lexer": "ipython3",
   "version": "3.5.5"
  }
 },
 "nbformat": 4,
 "nbformat_minor": 2
}
