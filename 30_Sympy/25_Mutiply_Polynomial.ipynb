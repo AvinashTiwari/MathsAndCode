{
 "cells": [
  {
   "cell_type": "code",
   "execution_count": 1,
   "metadata": {},
   "outputs": [],
   "source": [
    "import sympy as sym\n",
    "sym.init_printing()\n",
    "from IPython.display import display , Math\n",
    "import numpy as np\n",
    "from sympy.abc import x,y \n",
    "import math"
   ]
  },
  {
   "cell_type": "code",
   "execution_count": 2,
   "metadata": {},
   "outputs": [
    {
     "data": {
      "image/png": "[encoded data removed]",
      "text/latex": [
       "$$x^{8}$$"
      ],
      "text/plain": [
       " 8\n",
       "x "
      ]
     },
     "execution_count": 2,
     "metadata": {},
     "output_type": "execute_result"
    }
   ],
   "source": [
    "x**5 * x**3"
   ]
  },
  {
   "cell_type": "code",
   "execution_count": 6,
   "metadata": {},
   "outputs": [
    {
     "data": {
      "text/latex": [
       "$\\displaystyle 4 x^{5} - 2 x^{4} - 4 x^{2} + 2 x$"
      ],
      "text/plain": [
       "<IPython.core.display.Math object>"
      ]
     },
     "metadata": {},
     "output_type": "display_data"
    }
   ],
   "source": [
    "p1 = 4*x**2 - 2*x\n",
    "p2 = x**3 -1\n",
    "display(Math(sym.latex(sym.expand(p1*p2))))"
   ]
  },
  {
   "cell_type": "code",
   "execution_count": 7,
   "metadata": {},
   "outputs": [],
   "source": [
    "x,y = sym.symbols(\"x,y\")"
   ]
  },
  {
   "cell_type": "code",
   "execution_count": 11,
   "metadata": {},
   "outputs": [
    {
     "data": {
      "text/latex": [
       "$\\displaystyle (4 x^{4} - 3 x^{2} + 4 x + 72) \\times (- x^{3} - 12 x^{2} - 6.4) = - 4 x^{7} - 48 x^{6} + 3 x^{5} + 6.4 x^{4} - 120 x^{3} - 844.8 x^{2} - 25.6 x - 460.8 $"
      ],
      "text/plain": [
       "<IPython.core.display.Math object>"
      ]
     },
     "metadata": {},
     "output_type": "display_data"
    }
   ],
   "source": [
    "fxy = 4*x**4 - 9*y**3 - 3*x**2 + x*y**2\n",
    "gxy = .8*y**3 -x**3 + 6*x**2*y\n",
    "display(Math('(%s) \\\\times (%s) = %s ' %(sym.latex(fxy), sym.latex(gxy), sym.latex(sym.expand(fxy*gxy)))))"
   ]
  },
  {
   "cell_type": "code",
   "execution_count": 13,
   "metadata": {},
   "outputs": [
    {
     "name": "stdout",
     "output_type": "stream",
     "text": [
      "Multiplied solution is -1085833.80000000\n"
     ]
    }
   ],
   "source": [
    "xval =5\n",
    "yval =-2\n",
    "fg = (fxy*gxy).subs({x:xval, y:yval})\n",
    "\n",
    "print('Multiplied solution is %s' %(fg))"
   ]
  },
  {
   "cell_type": "code",
   "execution_count": null,
   "metadata": {},
   "outputs": [],
   "source": []
  }
 ],
 "metadata": {
  "kernelspec": {
   "display_name": "Python 3",
   "language": "python",
   "name": "python3"
  },
  "language_info": {
   "codemirror_mode": {
    "name": "ipython",
    "version": 3
   },
   "file_extension": ".py",
   "mimetype": "text/x-python",
   "name": "python",
   "nbconvert_exporter": "python",
   "pygments_lexer": "ipython3",
   "version": "3.7.3"
  }
 },
 "nbformat": 4,
 "nbformat_minor": 2
}
