{
 "cells": [
  {
   "cell_type": "code",
   "execution_count": 1,
   "metadata": {},
   "outputs": [],
   "source": [
    "import numpy as np\n",
    "import matplotlib.pyplot as plt"
   ]
  },
  {
   "cell_type": "code",
   "execution_count": 2,
   "metadata": {},
   "outputs": [
    {
     "data": {
      "text/plain": [
       "5.0"
      ]
     },
     "execution_count": 2,
     "metadata": {},
     "output_type": "execute_result"
    }
   ],
   "source": [
    "a = 3\n",
    "b = 4\n",
    "\n",
    "c = np.sqrt(a**2 + b **2)\n",
    "c"
   ]
  },
  {
   "cell_type": "code",
   "execution_count": 3,
   "metadata": {},
   "outputs": [
    {
     "data": {
      "text/plain": [
       "(-0.5, 4.5, -0.5, 4.5)"
      ]
     },
     "execution_count": 3,
     "metadata": {},
     "output_type": "execute_result"
    },
    {
     "data": {
      "image/png": "[encoded data removed]",
      "text/plain": [
       "<Figure size 432x288 with 1 Axes>"
      ]
     },
     "metadata": {},
     "output_type": "display_data"
    }
   ],
   "source": [
    "plt.plot([0,a],[0,0], 'k')\n",
    "plt.plot([0,0],[0,b], 'k')\n",
    "plt.plot([0,a],[b,0], 'k')\n",
    "plt.plot([.3,.3],[0,.3], 'k')\n",
    "plt.plot([0.,.3],[.3,.3], 'k')\n",
    "\n",
    "plt.text(a/3 , -.45, 'a=' + str(a), fontsize=15)\n",
    "plt.text(.1 , b/3, 'b=' + str(b), fontsize=15)\n",
    "plt.text(a/2+.1 , b/2, 'c=' + str(c), fontsize=15)\n",
    "\n",
    "\n",
    "plt.axis('square')\n",
    "axlim = np.max((a,b)) +.5\n",
    "plt.axis([-.5,axlim,-.5,axlim])\n",
    "plt.axis('off')"
   ]
  },
  {
   "cell_type": "code",
   "execution_count": 4,
   "metadata": {},
   "outputs": [
    {
     "name": "stdout",
     "output_type": "stream",
     "text": [
      "5.0\n",
      "5.0\n"
     ]
    }
   ],
   "source": [
    "z = np.complex(3,4)\n",
    "mag1 = np.sqrt(np.real(z)**2 + np.imag(z)**2)\n",
    "mag2 = np.abs(z)\n",
    "print(mag1)\n",
    "print(mag2)"
   ]
  },
  {
   "cell_type": "code",
   "execution_count": 6,
   "metadata": {},
   "outputs": [
    {
     "name": "stdout",
     "output_type": "stream",
     "text": [
      "0.9272952180016122\n",
      "0.9272952180016122\n"
     ]
    }
   ],
   "source": [
    "ag1 = np.arctan2(np.imag(z), np.real(z))\n",
    "ag2 = np.angle(z)\n",
    "print(ag1)\n",
    "print(ag2)"
   ]
  },
  {
   "cell_type": "code",
   "execution_count": null,
   "metadata": {},
   "outputs": [],
   "source": []
  }
 ],
 "metadata": {
  "kernelspec": {
   "display_name": "Python 3",
   "language": "python",
   "name": "python3"
  },
  "language_info": {
   "codemirror_mode": {
    "name": "ipython",
    "version": 3
   },
   "file_extension": ".py",
   "mimetype": "text/x-python",
   "name": "python",
   "nbconvert_exporter": "python",
   "pygments_lexer": "ipython3",
   "version": "3.5.5"
  }
 },
 "nbformat": 4,
 "nbformat_minor": 2
}
