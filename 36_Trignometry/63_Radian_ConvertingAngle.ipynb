{
 "cells": [
  {
   "cell_type": "code",
   "execution_count": 1,
   "metadata": {},
   "outputs": [],
   "source": [
    "import numpy as np\n",
    "import matplotlib.pyplot as plt"
   ]
  },
  {
   "cell_type": "code",
   "execution_count": 32,
   "metadata": {},
   "outputs": [],
   "source": [
    "def anagle_convert_plot():\n",
    "    angle = eval(input('What angle to convert?'))\n",
    "    unit = input('which input did you input(radian or degree) ?')\n",
    "    if unit[0].lower() =='r':\n",
    "        rad = angle\n",
    "        deg = np.rad2deg(angle)\n",
    "    elif unit[0].lower() =='d':\n",
    "        deg = angle\n",
    "        rad = np.deg2rad(angle)\n",
    "    else:\n",
    "        raise ValueError('Unknow unit')\n",
    "    \n",
    "    \n",
    "    \n",
    "    plt.plot([0,1],[0,0],'r',linewidth=2)\n",
    "    plt.plot([0, np.cos(rad)], [0, np.sin(rad)], 'r', linewidth=3)\n",
    "    plt.axis('square')\n",
    "    plt.axis([-1,1,-1,1])\n",
    "    plt.grid()\n",
    "    plt.title('Angle  %s $^o$ or %s rad' %(deg,rad))\n",
    "    plt.show()\n",
    "    \n",
    "    "
   ]
  },
  {
   "cell_type": "code",
   "execution_count": 33,
   "metadata": {},
   "outputs": [
    {
     "data": {
      "image/png": "[encoded data removed]",
      "text/plain": [
       "<Figure size 432x288 with 1 Axes>"
      ]
     },
     "metadata": {},
     "output_type": "display_data"
    }
   ],
   "source": [
    "anagle_convert_plot()"
   ]
  },
  {
   "cell_type": "code",
   "execution_count": null,
   "metadata": {},
   "outputs": [],
   "source": []
  }
 ],
 "metadata": {
  "kernelspec": {
   "display_name": "Python 3",
   "language": "python",
   "name": "python3"
  },
  "language_info": {
   "codemirror_mode": {
    "name": "ipython",
    "version": 3
   },
   "file_extension": ".py",
   "mimetype": "text/x-python",
   "name": "python",
   "nbconvert_exporter": "python",
   "pygments_lexer": "ipython3",
   "version": "3.5.5"
  }
 },
 "nbformat": 4,
 "nbformat_minor": 2
}
