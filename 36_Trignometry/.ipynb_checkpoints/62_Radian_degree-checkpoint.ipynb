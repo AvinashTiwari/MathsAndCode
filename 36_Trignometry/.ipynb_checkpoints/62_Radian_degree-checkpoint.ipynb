{
 "cells": [
  {
   "cell_type": "code",
   "execution_count": 1,
   "metadata": {},
   "outputs": [],
   "source": [
    "import numpy as np\n",
    "import matplotlib.pyplot as plt"
   ]
  },
  {
   "cell_type": "code",
   "execution_count": 4,
   "metadata": {},
   "outputs": [
    {
     "name": "stdout",
     "output_type": "stream",
     "text": [
      "180 degree is 3.14159 radians \n"
     ]
    }
   ],
   "source": [
    "deg = 180\n",
    "deg*np.pi/180\n",
    "print(\"%g degree is %g radians \"%(deg,deg*np.pi/180))"
   ]
  },
  {
   "cell_type": "code",
   "execution_count": 7,
   "metadata": {},
   "outputs": [
    {
     "name": "stdout",
     "output_type": "stream",
     "text": [
      "8.76816e+18 degree is 4.2899 radians \n"
     ]
    }
   ],
   "source": [
    "deg = 8768162826827162812\n",
    "rad = deg*np.pi/180\n",
    "rad = rad%(2*np.pi)\n",
    "print(\"%g degree is %g radians \"%(deg,rad))"
   ]
  },
  {
   "cell_type": "code",
   "execution_count": 12,
   "metadata": {},
   "outputs": [
    {
     "data": {
      "text/plain": [
       "0.0"
      ]
     },
     "execution_count": 12,
     "metadata": {},
     "output_type": "execute_result"
    }
   ],
   "source": [
    "rad = 4*np.pi\n",
    "deg = (180*rad/np.pi)%360\n",
    "deg"
   ]
  },
  {
   "cell_type": "code",
   "execution_count": 13,
   "metadata": {},
   "outputs": [
    {
     "name": "stdout",
     "output_type": "stream",
     "text": [
      "8.76816e+18 degree is 1.53033e+17 radians \n"
     ]
    }
   ],
   "source": [
    "deg = 720\n",
    "rad = np.deg2rad(deg)\n",
    "print(\"%g degree is %g radians \"%(deg,rad))"
   ]
  },
  {
   "cell_type": "code",
   "execution_count": null,
   "metadata": {},
   "outputs": [],
   "source": []
  }
 ],
 "metadata": {
  "kernelspec": {
   "display_name": "Python 3",
   "language": "python",
   "name": "python3"
  },
  "language_info": {
   "codemirror_mode": {
    "name": "ipython",
    "version": 3
   },
   "file_extension": ".py",
   "mimetype": "text/x-python",
   "name": "python",
   "nbconvert_exporter": "python",
   "pygments_lexer": "ipython3",
   "version": "3.5.5"
  }
 },
 "nbformat": 4,
 "nbformat_minor": 2
}
