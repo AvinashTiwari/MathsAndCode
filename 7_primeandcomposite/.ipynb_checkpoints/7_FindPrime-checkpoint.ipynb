{
 "cells": [
  {
   "cell_type": "code",
   "execution_count": 1,
   "metadata": {},
   "outputs": [
    {
     "name": "stdout",
     "output_type": "stream",
     "text": [
      "407 is not a prime number\n",
      "11 times 37 is 407\n"
     ]
    }
   ],
   "source": [
    "num = 407\n",
    "\n",
    "# take input from the user\n",
    "# num = int(input(\"Enter a number: \"))\n",
    "\n",
    "# prime numbers are greater than 1\n",
    "if num > 1:\n",
    "   # check for factors\n",
    "   for i in range(2,num):\n",
    "       if (num % i) == 0:\n",
    "           print(num,\"is not a compsite number\")\n",
    "           print(i,\"times\",num//i,\"is\",num)\n",
    "           break\n",
    "   else:\n",
    "       print(num,\"is a prime number\")\n",
    "       \n",
    "# if input number is less than\n",
    "# or equal to 1, it is not prime\n",
    "else:\n",
    "   print(num,\"is not a prime number\")"
   ]
  },
  {
   "cell_type": "code",
   "execution_count": 6,
   "metadata": {},
   "outputs": [],
   "source": [
    "def isPrimeOrCompsite(num):\n",
    "    if num > 1:\n",
    "        for i in range(2,num):\n",
    "            if (num % i) == 0:\n",
    "                print(num,\"is not a compsite number\")\n",
    "                print(i,\"times\",num//i,\"is\",num)\n",
    "                break\n",
    "            else:\n",
    "                print(num,\"is a prime number\")\n",
    "    else:\n",
    "        print(num,\"is not a prime number\")\n",
    "        \n",
    "    \n",
    "                \n",
    "                \n",
    "                \n",
    "            \n",
    "        \n",
    "    "
   ]
  },
  {
   "cell_type": "code",
   "execution_count": 7,
   "metadata": {},
   "outputs": [
    {
     "name": "stdout",
     "output_type": "stream",
     "text": [
      "4 is not a compsite number\n",
      "2 times 2 is 4\n"
     ]
    }
   ],
   "source": [
    "isPrimeOrCompsite(4)"
   ]
  },
  {
   "cell_type": "code",
   "execution_count": 8,
   "metadata": {},
   "outputs": [
    {
     "name": "stdout",
     "output_type": "stream",
     "text": [
      "5 is a prime number\n",
      "5 is a prime number\n",
      "5 is a prime number\n"
     ]
    }
   ],
   "source": [
    "isPrimeOrCompsite(5)"
   ]
  },
  {
   "cell_type": "code",
   "execution_count": null,
   "metadata": {},
   "outputs": [],
   "source": []
  }
 ],
 "metadata": {
  "kernelspec": {
   "display_name": "Python 3",
   "language": "python",
   "name": "python3"
  },
  "language_info": {
   "codemirror_mode": {
    "name": "ipython",
    "version": 3
   },
   "file_extension": ".py",
   "mimetype": "text/x-python",
   "name": "python",
   "nbconvert_exporter": "python",
   "pygments_lexer": "ipython3",
   "version": "3.6.7"
  }
 },
 "nbformat": 4,
 "nbformat_minor": 2
}
