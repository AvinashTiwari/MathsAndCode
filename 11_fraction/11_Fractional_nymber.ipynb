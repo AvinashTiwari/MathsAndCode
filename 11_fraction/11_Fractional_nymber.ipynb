{
 "cells": [
  {
   "cell_type": "code",
   "execution_count": 1,
   "metadata": {},
   "outputs": [],
   "source": [
    "from fractions import Fraction"
   ]
  },
  {
   "cell_type": "code",
   "execution_count": 2,
   "metadata": {},
   "outputs": [
    {
     "data": {
      "text/plain": [
       "Fraction(7, 3)"
      ]
     },
     "execution_count": 2,
     "metadata": {},
     "output_type": "execute_result"
    }
   ],
   "source": [
    "Fraction(98, 42)"
   ]
  },
  {
   "cell_type": "code",
   "execution_count": 3,
   "metadata": {},
   "outputs": [
    {
     "data": {
      "text/plain": [
       "Fraction(5, 12)"
      ]
     },
     "execution_count": 3,
     "metadata": {},
     "output_type": "execute_result"
    }
   ],
   "source": [
    "Fraction(10,24)"
   ]
  },
  {
   "cell_type": "code",
   "execution_count": 4,
   "metadata": {},
   "outputs": [
    {
     "data": {
      "text/plain": [
       "Fraction(2, 3)"
      ]
     },
     "execution_count": 4,
     "metadata": {},
     "output_type": "execute_result"
    }
   ],
   "source": [
    "Fraction(54,81)"
   ]
  },
  {
   "cell_type": "code",
   "execution_count": 11,
   "metadata": {},
   "outputs": [],
   "source": [
    "def gcd(a, b):\n",
    "    \"\"\"Calculate the Greatest Common Divisor of a and b.\n",
    "\n",
    "        Unless b==0, the result will have the same sign as b (so that when\n",
    "        b is divided by it, the result comes out positive).\n",
    "        \"\"\"\n",
    "    while b:\n",
    "        a, b = b, a % b\n",
    "        print(a , b)\n",
    "    return a"
   ]
  },
  {
   "cell_type": "code",
   "execution_count": 12,
   "metadata": {},
   "outputs": [],
   "source": [
    "def simplify_fraction(numer, denom):\n",
    "\n",
    "    if denom == 0:\n",
    "        return \"Division by 0 - result undefined\"\n",
    "\n",
    "    # Remove greatest common divisor:\n",
    "    common_divisor = gcd(numer, denom)\n",
    "    (reduced_num, reduced_den) = (numer / common_divisor, denom / common_divisor)\n",
    "    # Note that reduced_den > 0 as documented in the gcd function.\n",
    "\n",
    "    if reduced_den == 1:\n",
    "        return \"%d/%d is simplified to %d\" % (numer, denom, reduced_num)\n",
    "    elif common_divisor == 1:\n",
    "        return \"%d/%d is already at its most simplified state\" % (numer, denom)\n",
    "    else:\n",
    "        return \"%d/%d is simplified to %d/%d\" % (numer, denom, reduced_num, reduced_den)"
   ]
  },
  {
   "cell_type": "code",
   "execution_count": 13,
   "metadata": {},
   "outputs": [
    {
     "name": "stdout",
     "output_type": "stream",
     "text": [
      "24 10\n",
      "10 4\n",
      "4 2\n",
      "2 0\n"
     ]
    },
    {
     "data": {
      "text/plain": [
       "'10/24 is simplified to 5/12'"
      ]
     },
     "execution_count": 13,
     "metadata": {},
     "output_type": "execute_result"
    }
   ],
   "source": [
    "simplify_fraction(10,24)"
   ]
  },
  {
   "cell_type": "code",
   "execution_count": null,
   "metadata": {},
   "outputs": [],
   "source": []
  }
 ],
 "metadata": {
  "kernelspec": {
   "display_name": "Python 3",
   "language": "python",
   "name": "python3"
  },
  "language_info": {
   "codemirror_mode": {
    "name": "ipython",
    "version": 3
   },
   "file_extension": ".py",
   "mimetype": "text/x-python",
   "name": "python",
   "nbconvert_exporter": "python",
   "pygments_lexer": "ipython3",
   "version": "3.6.7"
  }
 },
 "nbformat": 4,
 "nbformat_minor": 2
}
